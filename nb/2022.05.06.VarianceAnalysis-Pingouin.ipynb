{
 "cells": [
  {
   "cell_type": "markdown",
   "id": "ab2d5122",
   "metadata": {},
   "source": [
    "### Load the data from Excel"
   ]
  },
  {
   "cell_type": "code",
   "execution_count": 1,
   "id": "34066065",
   "metadata": {},
   "outputs": [
    {
     "name": "stdout",
     "output_type": "stream",
     "text": [
      "Installing CmdStan version: 2.29.2\n",
      "Install directory: /home/cerquide/.cmdstan\n",
      "CmdStan version 2.29.2 already installed\n",
      "1.0.1\n"
     ]
    }
   ],
   "source": [
    "import pandas as pd\n",
    "import numpy as np\n",
    "import cmdstanpy as c\n",
    "import seaborn as sns\n",
    "import matplotlib.pyplot as plt\n",
    "c.install_cmdstan()\n",
    "print(c.__version__)"
   ]
  },
  {
   "cell_type": "code",
   "execution_count": 2,
   "id": "e529e16c",
   "metadata": {},
   "outputs": [
    {
     "name": "stdout",
     "output_type": "stream",
     "text": [
      "['Area method', '3distance method', 'Score method']\n"
     ]
    }
   ],
   "source": [
    "\n",
    "f = pd.ExcelFile( \"../data/Cumulus Expansion dataset_without_negative_CE_values.xlsx\")                                                  \n",
    "print(f.sheet_names)\n",
    "dfs = {}\n",
    "for sheet_name in f.sheet_names:\n",
    "    dfs[sheet_name] = pd.read_excel(f, sheet_name, skiprows=[0,1], header=None,usecols=[1,2,3,4,5,6])"
   ]
  },
  {
   "cell_type": "code",
   "execution_count": 3,
   "id": "9736136f",
   "metadata": {},
   "outputs": [
    {
     "data": {
      "text/html": [
       "<div>\n",
       "<style scoped>\n",
       "    .dataframe tbody tr th:only-of-type {\n",
       "        vertical-align: middle;\n",
       "    }\n",
       "\n",
       "    .dataframe tbody tr th {\n",
       "        vertical-align: top;\n",
       "    }\n",
       "\n",
       "    .dataframe thead th {\n",
       "        text-align: right;\n",
       "    }\n",
       "</style>\n",
       "<table border=\"1\" class=\"dataframe\">\n",
       "  <thead>\n",
       "    <tr style=\"text-align: right;\">\n",
       "      <th></th>\n",
       "      <th>1</th>\n",
       "      <th>2</th>\n",
       "      <th>3</th>\n",
       "      <th>4</th>\n",
       "      <th>5</th>\n",
       "      <th>6</th>\n",
       "    </tr>\n",
       "  </thead>\n",
       "  <tbody>\n",
       "    <tr>\n",
       "      <th>0</th>\n",
       "      <td>178.072184</td>\n",
       "      <td>190.503002</td>\n",
       "      <td>178.518719</td>\n",
       "      <td>170.957529</td>\n",
       "      <td>194.124455</td>\n",
       "      <td>180.524075</td>\n",
       "    </tr>\n",
       "    <tr>\n",
       "      <th>1</th>\n",
       "      <td>110.545249</td>\n",
       "      <td>109.025768</td>\n",
       "      <td>112.780247</td>\n",
       "      <td>108.246239</td>\n",
       "      <td>117.683475</td>\n",
       "      <td>99.680823</td>\n",
       "    </tr>\n",
       "    <tr>\n",
       "      <th>2</th>\n",
       "      <td>61.779680</td>\n",
       "      <td>63.414298</td>\n",
       "      <td>76.387161</td>\n",
       "      <td>70.105727</td>\n",
       "      <td>69.782141</td>\n",
       "      <td>75.691881</td>\n",
       "    </tr>\n",
       "    <tr>\n",
       "      <th>3</th>\n",
       "      <td>35.756752</td>\n",
       "      <td>74.652821</td>\n",
       "      <td>64.172850</td>\n",
       "      <td>47.696356</td>\n",
       "      <td>58.703652</td>\n",
       "      <td>65.581084</td>\n",
       "    </tr>\n",
       "    <tr>\n",
       "      <th>4</th>\n",
       "      <td>7.413434</td>\n",
       "      <td>43.492802</td>\n",
       "      <td>34.984445</td>\n",
       "      <td>29.277502</td>\n",
       "      <td>37.427337</td>\n",
       "      <td>32.186628</td>\n",
       "    </tr>\n",
       "    <tr>\n",
       "      <th>...</th>\n",
       "      <td>...</td>\n",
       "      <td>...</td>\n",
       "      <td>...</td>\n",
       "      <td>...</td>\n",
       "      <td>...</td>\n",
       "      <td>...</td>\n",
       "    </tr>\n",
       "    <tr>\n",
       "      <th>227</th>\n",
       "      <td>141.696152</td>\n",
       "      <td>142.336361</td>\n",
       "      <td>233.908814</td>\n",
       "      <td>121.368418</td>\n",
       "      <td>144.086331</td>\n",
       "      <td>260.232729</td>\n",
       "    </tr>\n",
       "    <tr>\n",
       "      <th>228</th>\n",
       "      <td>53.737893</td>\n",
       "      <td>47.563056</td>\n",
       "      <td>58.645541</td>\n",
       "      <td>34.494464</td>\n",
       "      <td>42.131194</td>\n",
       "      <td>62.355879</td>\n",
       "    </tr>\n",
       "    <tr>\n",
       "      <th>229</th>\n",
       "      <td>81.012607</td>\n",
       "      <td>72.006168</td>\n",
       "      <td>76.574489</td>\n",
       "      <td>73.516026</td>\n",
       "      <td>67.435111</td>\n",
       "      <td>81.598661</td>\n",
       "    </tr>\n",
       "    <tr>\n",
       "      <th>230</th>\n",
       "      <td>132.129189</td>\n",
       "      <td>139.583314</td>\n",
       "      <td>124.941917</td>\n",
       "      <td>126.100468</td>\n",
       "      <td>145.678629</td>\n",
       "      <td>155.866156</td>\n",
       "    </tr>\n",
       "    <tr>\n",
       "      <th>231</th>\n",
       "      <td>37.546672</td>\n",
       "      <td>19.677846</td>\n",
       "      <td>36.931605</td>\n",
       "      <td>14.986369</td>\n",
       "      <td>41.244337</td>\n",
       "      <td>56.454164</td>\n",
       "    </tr>\n",
       "  </tbody>\n",
       "</table>\n",
       "<p>232 rows × 6 columns</p>\n",
       "</div>"
      ],
      "text/plain": [
       "              1           2           3           4           5           6\n",
       "0    178.072184  190.503002  178.518719  170.957529  194.124455  180.524075\n",
       "1    110.545249  109.025768  112.780247  108.246239  117.683475   99.680823\n",
       "2     61.779680   63.414298   76.387161   70.105727   69.782141   75.691881\n",
       "3     35.756752   74.652821   64.172850   47.696356   58.703652   65.581084\n",
       "4      7.413434   43.492802   34.984445   29.277502   37.427337   32.186628\n",
       "..          ...         ...         ...         ...         ...         ...\n",
       "227  141.696152  142.336361  233.908814  121.368418  144.086331  260.232729\n",
       "228   53.737893   47.563056   58.645541   34.494464   42.131194   62.355879\n",
       "229   81.012607   72.006168   76.574489   73.516026   67.435111   81.598661\n",
       "230  132.129189  139.583314  124.941917  126.100468  145.678629  155.866156\n",
       "231   37.546672   19.677846   36.931605   14.986369   41.244337   56.454164\n",
       "\n",
       "[232 rows x 6 columns]"
      ]
     },
     "execution_count": 3,
     "metadata": {},
     "output_type": "execute_result"
    }
   ],
   "source": [
    "dfs['Area method']\n"
   ]
  },
  {
   "cell_type": "code",
   "execution_count": 4,
   "id": "1bed6ee9",
   "metadata": {},
   "outputs": [],
   "source": [
    "def get_q(v):\n",
    "    return np.log((v+100)/100)\n",
    "\n",
    "def get_matrix(xls_df, judges=3, repeats=2, do_log=True):\n",
    "    objects = len(xls_df.index)\n",
    "    x = np.zeros((objects, judges, repeats))\n",
    "    x[:,0,0] = xls_df[1]\n",
    "    x[:,0,1] = xls_df[4]\n",
    "    x[:,1,0] = xls_df[2]\n",
    "    x[:,1,1] = xls_df[5]\n",
    "    x[:,2,0] = xls_df[3]\n",
    "    x[:,2,1] = xls_df[6]\n",
    "    if do_log:\n",
    "        x = get_q(x)\n",
    "    return x"
   ]
  },
  {
   "cell_type": "code",
   "execution_count": 215,
   "id": "bc17931c",
   "metadata": {},
   "outputs": [],
   "source": [
    "def compute_kappas(method):\n",
    "    x = get_matrix(dfs[method],do_log=False)\n",
    "    N, J, R = x.shape\n",
    "    judges = np.zeros(N*J)\n",
    "    for i in range(J):\n",
    "        judges[N*i:N*(i+1)]=i\n",
    "    indexes = np.tile(np.arange(N),J)\n",
    "    df_inter = pd.DataFrame({'oocyte':indexes,'measurer':judges})\n",
    "    CI_low_inter = np.zeros(R)\n",
    "    CI_high_inter = np.zeros(R)\n",
    "    ICC_inter = np.zeros(R)\n",
    "    for i in range(R):\n",
    "        col_name = \"r\"+str(i)\n",
    "        df_inter[col_name] = x[:,:,i].swapaxes(0,1).flatten()\n",
    "        icc = pg.intraclass_corr(data=df_inter, targets='oocyte', raters='measurer', ratings=col_name, nan_policy=\"omit\")\n",
    "        icc = icc.set_index('Type')\n",
    "        print(\"Inter expert ICCs for method \" + method + \" and measurement repetition \"+str(i))\n",
    "        print(\"ICC:\",icc.loc[\"ICC2\"][\"ICC\"],\" CI95%:\",icc.loc[\"ICC2\"][\"CI95%\"])\n",
    "        ICC_inter[i]=icc.loc[\"ICC2\"][\"ICC\"]\n",
    "        CI_low_inter[i] = float(icc.loc[\"ICC2\"][\"CI95%\"][0])\n",
    "        CI_high_inter[i] = float(icc.loc[\"ICC2\"][\"CI95%\"][1])\n",
    "    reps = np.zeros(N*R)\n",
    "    for i in range(R):\n",
    "        reps[N*i:N*(i+1)]=i\n",
    "    indexesr = np.tile(np.arange(N),R)\n",
    "    df_intra = pd.DataFrame({'oocyte':indexesr,'rep':reps})\n",
    "    CI_low_intra = np.zeros(J)\n",
    "    CI_high_intra = np.zeros(J)\n",
    "    ICC_intra = np.zeros(J)\n",
    "    for i in range(J):\n",
    "        col_name = \"a\"+str(i)\n",
    "        df_intra[col_name] = x[:,i,:].swapaxes(0,1).flatten()\n",
    "        icc = pg.intraclass_corr(data=df_intra, targets='oocyte', raters='rep', ratings=col_name, nan_policy=\"omit\")\n",
    "        icc = icc.set_index('Type')\n",
    "        print(\"Intra expert ICCs for method \" + method + \" and observer \"+str(i))\n",
    "        print(\"ICC:\",icc.loc[\"ICC1\"][\"ICC\"],\" CI95%:\",icc.loc[\"ICC1\"][\"CI95%\"])\n",
    "        ICC_intra[i]=icc.loc[\"ICC1\"][\"ICC\"]\n",
    "        CI_low_intra[i] = float(icc.loc[\"ICC1\"][\"CI95%\"][0])\n",
    "        CI_high_intra[i] = float(icc.loc[\"ICC1\"][\"CI95%\"][1])\n",
    "    return ICC_inter, CI_low_inter, CI_high_inter, ICC_intra, CI_low_intra, CI_high_intra\n",
    "    "
   ]
  },
  {
   "cell_type": "code",
   "execution_count": 216,
   "id": "2ed9efed",
   "metadata": {},
   "outputs": [
    {
     "name": "stdout",
     "output_type": "stream",
     "text": [
      "Inter expert ICCs for method Area method and measurement repetition 0\n",
      "ICC: 0.8983412277233852  CI95%: [0.88 0.92]\n",
      "Inter expert ICCs for method Area method and measurement repetition 1\n",
      "ICC: 0.9013158761784912  CI95%: [0.85 0.93]\n",
      "Intra expert ICCs for method Area method and observer 0\n",
      "ICC: 0.8724820315381185  CI95%: [0.84 0.9 ]\n",
      "Intra expert ICCs for method Area method and observer 1\n",
      "ICC: 0.9008245838189646  CI95%: [0.87 0.92]\n",
      "Intra expert ICCs for method Area method and observer 2\n",
      "ICC: 0.963238813279916  CI95%: [0.95 0.97]\n",
      "Inter expert ICCs for method 3distance method and measurement repetition 0\n",
      "ICC: 0.5657241039035995  CI95%: [0.49 0.63]\n",
      "Inter expert ICCs for method 3distance method and measurement repetition 1\n",
      "ICC: 0.5184203088685172  CI95%: [0.44 0.59]\n",
      "Intra expert ICCs for method 3distance method and observer 0\n",
      "ICC: 0.615781739393372  CI95%: [0.53 0.69]\n",
      "Intra expert ICCs for method 3distance method and observer 1\n",
      "ICC: 0.593521839169677  CI95%: [0.5  0.67]\n",
      "Intra expert ICCs for method 3distance method and observer 2\n",
      "ICC: 0.6417604269811766  CI95%: [0.56 0.71]\n",
      "Inter expert ICCs for method Score method and measurement repetition 0\n",
      "ICC: 0.23069883964266694  CI95%: [0.12 0.34]\n",
      "Inter expert ICCs for method Score method and measurement repetition 1\n",
      "ICC: 0.38840883302784346  CI95%: [0.3  0.47]\n",
      "Intra expert ICCs for method Score method and observer 0\n",
      "ICC: 0.6997765738401552  CI95%: [0.63 0.76]\n",
      "Intra expert ICCs for method Score method and observer 1\n",
      "ICC: 0.11639678795749088  CI95%: [-0.01  0.24]\n",
      "Intra expert ICCs for method Score method and observer 2\n",
      "ICC: 0.5131956186135413  CI95%: [0.41 0.6 ]\n"
     ]
    }
   ],
   "source": [
    "iccs = {}\n",
    "iccs[\"area\"] = compute_kappas(\"Area method\")\n",
    "iccs[\"3 distance\"] = compute_kappas('3distance method')\n",
    "iccs[\"score\"] = compute_kappas('Score method')"
   ]
  },
  {
   "cell_type": "code",
   "execution_count": 228,
   "id": "48244878",
   "metadata": {},
   "outputs": [
    {
     "name": "stdout",
     "output_type": "stream",
     "text": [
      "[0.8998285519509381, 0.5420722063860584, 0.3095538363352552]\n",
      "[0.04982855195093816, 0.10207220638605835, 0.1895538363352552]\n",
      "[0.03017144804906191, 0.08792779361394165, 0.1604461636647448]\n"
     ]
    },
    {
     "data": {
      "image/png": "[encoded data removed]",
      "text/plain": [
       "<Figure size 460.8x259.2 with 1 Axes>"
      ]
     },
     "metadata": {
      "needs_background": "light"
     },
     "output_type": "display_data"
    }
   ],
   "source": [
    "import matplotlib.pyplot as plt\n",
    "import numpy as np\n",
    "from matplotlib.patches import Rectangle\n",
    "from matplotlib.transforms import Bbox\n",
    "\n",
    "x = [\"Area\", \"3 distance\", \"Score\"]\n",
    "\n",
    "y = [np.mean(iccs[\"area\"][0]), np.mean(iccs[\"3 distance\"][0]), np.mean(iccs[\"score\"][0])]\n",
    "lowers = [y[0] - np.min(iccs[\"area\"][1]), y[1] - np.min(iccs[\"3 distance\"][1]), y[2]-np.min(iccs[\"score\"][1])]\n",
    "uppers = [np.max(iccs[\"area\"][2])-y[0], np.max(iccs[\"3 distance\"][2])-y[1], np.max(iccs[\"score\"][2])-y[2]]\n",
    "print(y)\n",
    "print(lowers)\n",
    "print(uppers)\n",
    "yerr = [lowers,uppers]\n",
    "\n",
    "plt.rcParams[\"figure.figsize\"] = [16*0.4,9*0.4]\n",
    "# plot:\n",
    "fig, ax = plt.subplots()\n",
    "#fig.figsize=(3,4)\n",
    "ax.set_ylabel(\"ICC\")\n",
    "ax.errorbar(x, y, yerr, fmt='o', linewidth=3, capsize=6)\n",
    "#ax.set_title(\"Inter expert agreement for the Area, 3 distance and Score methods\")\n",
    "ax.set(xlim=(-0.5, 2.5), xticks=np.arange(0, 3),\n",
    "       ylim=(0, 1), yticks=np.arange(0,1,0.2 ))\n",
    "r1=Rectangle((-0.5, 0.8), 3, 0.2, color=\"red\", alpha=0.2)\n",
    "r2=Rectangle((-0.5, 0.6), 3, 0.2, color=\"orange\", alpha=0.2)\n",
    "r3=Rectangle((-0.5, 0.4), 3, 0.2, color=\"yellow\", alpha=0.2)\n",
    "r4=Rectangle((-0.5, 0.2), 3, 0.2, color=\"cyan\", alpha=0.2)\n",
    "r5=Rectangle((-0.5, 0.), 3, 0.2, color=\"blue\", alpha=0.2)\n",
    "ax.add_patch(r1)\n",
    "ax.add_patch(r2)\n",
    "ax.add_patch(r3)\n",
    "ax.add_patch(r4)\n",
    "ax.add_patch(r5)\n",
    "ax.legend([r1, r2, r3,r4,r5], ['Very good', 'Good', 'Moderate','Fair','Poor'], title=\"Levels of agreement\", framealpha=1, bbox_to_anchor=(1., 1.))\n",
    "plt.savefig(\"../figs/inter_expert_agreement.png\",dpi=300.,bbox_inches=Bbox.from_extents(-0.5,-1,8,5))\n",
    "plt.show()\n"
   ]
  },
  {
   "cell_type": "code",
   "execution_count": 234,
   "id": "6d1a3408",
   "metadata": {},
   "outputs": [
    {
     "name": "stdout",
     "output_type": "stream",
     "text": [
      "[0.87248203 0.90082458 0.96323881 0.61578174 0.59352184 0.64176043\n",
      " 0.69977657 0.11639679 0.51319562]\n",
      "[0.03248203 0.03082458 0.01323881 0.08578174 0.09352184 0.08176043\n",
      " 0.06977657 0.12639679 0.10319562]\n"
     ]
    },
    {
     "data": {
      "image/png": "[encoded data removed]",
      "text/plain": [
       "<Figure size 460.8x259.2 with 1 Axes>"
      ]
     },
     "metadata": {
      "needs_background": "light"
     },
     "output_type": "display_data"
    }
   ],
   "source": [
    "x = [-0.1,0.,0.1,0.9,1.,1.1,1.9,2,2.1]\n",
    "y = np.hstack((iccs[\"area\"][3], iccs[\"3 distance\"][3], iccs[\"score\"][3]))\n",
    "print(y)\n",
    "\n",
    "\n",
    "lowers = np.hstack((iccs[\"area\"][4], iccs[\"3 distance\"][4], iccs[\"score\"][4]))\n",
    "lowers = y-lowers\n",
    "uppers = np.hstack((iccs[\"area\"][5], iccs[\"3 distance\"][5], iccs[\"score\"][5]))\n",
    "uppers = uppers-y\n",
    "print(lowers)\n",
    "yerr = [lowers,uppers]\n",
    "\n",
    "plt.rcParams[\"figure.figsize\"] = [16*0.4,9*0.4]\n",
    "# plot:\n",
    "fig, ax = plt.subplots()\n",
    "#fig.figsize=(3,4)\n",
    "ax.set_ylabel(\"ICC\")\n",
    "ax.errorbar(x, y, yerr, fmt='o', linewidth=3, capsize=6)\n",
    "#ax.set_title(\"Intra expert agreement for each of the three annotators\\n when using the Area, 3 distance and Score methods\")\n",
    "ax.set(xlim=(-0.5, 2.5), ylim=(0, 1), yticks=np.arange(0,1,0.2 ))\n",
    "ax.set_xticks(np.arange(0, 3),[\"Area\",\"3 distance\",\"Score\"])\n",
    "r1=Rectangle((-0.5, 0.8), 3, 0.2, color=\"red\", alpha=0.2)\n",
    "r2=Rectangle((-0.5, 0.6), 3, 0.2, color=\"orange\", alpha=0.2)\n",
    "r3=Rectangle((-0.5, 0.4), 3, 0.2, color=\"yellow\", alpha=0.2)\n",
    "r4=Rectangle((-0.5, 0.2), 3, 0.2, color=\"cyan\", alpha=0.2)\n",
    "r5=Rectangle((-0.5, 0.), 3, 0.2, color=\"blue\", alpha=0.2)\n",
    "ax.add_patch(r1)\n",
    "ax.add_patch(r2)\n",
    "ax.add_patch(r3)\n",
    "ax.add_patch(r4)\n",
    "ax.add_patch(r5)\n",
    "ax.legend([r1, r2, r3,r4,r5], ['Very good', 'Good', 'Moderate','Fair','Poor'], title=\"Levels of agreement\", framealpha=1, bbox_to_anchor=(1., 1.))\n",
    "plt.savefig(\"../figs/intra_expert_agreement.png\",dpi=300.,bbox_inches=Bbox.from_extents(-0.5,-1,8,5))\n",
    "plt.show()\n"
   ]
  },
  {
   "cell_type": "code",
   "execution_count": 233,
   "id": "dfb586cb",
   "metadata": {},
   "outputs": [
    {
     "data": {
      "image/png": "[encoded data removed]",
      "text/plain": [
       "<Figure size 460.8x259.2 with 1 Axes>"
      ]
     },
     "metadata": {
      "needs_background": "light"
     },
     "output_type": "display_data"
    }
   ],
   "source": [
    "import matplotlib.pyplot as plt\n",
    "import numpy as np\n",
    "from matplotlib.patches import Rectangle\n",
    "from matplotlib.transforms import Bbox\n",
    "\n",
    "#plt.style.use('_mpl-gallery')\n",
    "\n",
    "# make data:\n",
    "x = [-0.1,0.1,0.9,1.1,1.9,2.1]\n",
    "#x = [\"Area\", \"3 distance\", \"Score\"]\n",
    "y = np.hstack((iccs[\"area\"][0], iccs[\"3 distance\"][0], iccs[\"score\"][0]))\n",
    "\n",
    "lowers = np.hstack((iccs[\"area\"][1], iccs[\"3 distance\"][1], iccs[\"score\"][1]))\n",
    "lowers = y-lowers\n",
    "uppers = np.hstack((iccs[\"area\"][2], iccs[\"3 distance\"][2], iccs[\"score\"][2]))\n",
    "uppers = uppers-y\n",
    "\n",
    "yerr = [lowers,uppers]\n",
    "\n",
    "plt.rcParams[\"figure.figsize\"] = [16*0.4,9*0.4]\n",
    "# plot:\n",
    "fig, ax = plt.subplots()\n",
    "#fig.figsize=(3,4)\n",
    "ax.set_ylabel(\"ICC\")\n",
    "ax.errorbar(x, y, yerr, fmt='o', linewidth=3, capsize=6)\n",
    "#ax.set_title(\"Inter expert agreement for the Area, 3 distance and Score methods\")\n",
    "r1=Rectangle((-0.5, 0.8), 3, 0.2, color=\"red\", alpha=0.2)\n",
    "r2=Rectangle((-0.5, 0.6), 3, 0.2, color=\"orange\", alpha=0.2)\n",
    "r3=Rectangle((-0.5, 0.4), 3, 0.2, color=\"yellow\", alpha=0.2)\n",
    "r4=Rectangle((-0.5, 0.2), 3, 0.2, color=\"cyan\", alpha=0.2)\n",
    "r5=Rectangle((-0.5, 0.), 3, 0.2, color=\"blue\", alpha=0.2)\n",
    "ax.set(xlim=(-0.5, 2.5), ylim=(0, 1), yticks=np.arange(0,1,0.2 ))\n",
    "ax.set_xticks(np.arange(0, 3),[\"Area\",\"3 distance\",\"Score\"])\n",
    "ax.add_patch(r1)\n",
    "ax.add_patch(r2)\n",
    "ax.add_patch(r3)\n",
    "ax.add_patch(r4)\n",
    "ax.add_patch(r5)\n",
    "ax.legend([r1, r2, r3,r4,r5], ['Very good', 'Good', 'Moderate','Fair','Poor'], title=\"Levels of agreement\", framealpha=1, bbox_to_anchor=(1., 1.))\n",
    "plt.savefig(\"../figs/inter_expert_agreement2.png\",dpi=300.,bbox_inches=Bbox.from_extents(-0.5,-1,8,5))\n",
    "plt.show()"
   ]
  },
  {
   "cell_type": "code",
   "execution_count": null,
   "id": "313619c1",
   "metadata": {},
   "outputs": [],
   "source": []
  }
 ],
 "metadata": {
  "kernelspec": {
   "display_name": "Python 3 (ipykernel)",
   "language": "python",
   "name": "python3"
  },
  "language_info": {
   "codemirror_mode": {
    "name": "ipython",
    "version": 3
   },
   "file_extension": ".py",
   "mimetype": "text/x-python",
   "name": "python",
   "nbconvert_exporter": "python",
   "pygments_lexer": "ipython3",
   "version": "3.8.10"
  }
 },
 "nbformat": 4,
 "nbformat_minor": 5
}
