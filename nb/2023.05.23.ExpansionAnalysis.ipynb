{
 "cells": [
  {
   "cell_type": "markdown",
   "id": "ab2d5122",
   "metadata": {},
   "source": [
    "### Load the data from Excel"
   ]
  },
  {
   "cell_type": "code",
   "execution_count": 3,
   "id": "34066065",
   "metadata": {},
   "outputs": [
    {
     "name": "stdout",
     "output_type": "stream",
     "text": [
      "1.1.0\n"
     ]
    }
   ],
   "source": [
    "import pandas as pd\n",
    "import numpy as np\n",
    "import cmdstanpy as c\n",
    "import seaborn as sns\n",
    "import matplotlib.pyplot as plt\n",
    "import pingouin as pg\n",
    "from sklearn import tree\n",
    "#c.install_cmdstan()\n",
    "print(c.__version__)"
   ]
  },
  {
   "cell_type": "code",
   "execution_count": 4,
   "id": "e529e16c",
   "metadata": {},
   "outputs": [
    {
     "name": "stdout",
     "output_type": "stream",
     "text": [
      "['Cumexp_development_14.04.2023']\n"
     ]
    }
   ],
   "source": [
    "\n",
    "f = pd.ExcelFile( \"../data/Cumexp_development_14.04.2023.xlsx\")                                                  \n",
    "print(f.sheet_names)\n",
    "dfs = {}\n",
    "for sheet_name in f.sheet_names:\n",
    "    dfs[sheet_name] = pd.read_excel(f, sheet_name, header=0,usecols=[0,1,2,3,4,5,6,7,8])"
   ]
  },
  {
   "cell_type": "code",
   "execution_count": 9,
   "id": "9736136f",
   "metadata": {},
   "outputs": [
    {
     "name": "stdout",
     "output_type": "stream",
     "text": [
      "     oocyte  Cumulus parameter  Oocyte parameter  Cleavage48h  BlastocystD8   \n",
      "0      1.15                  1                 2          1.0             1  \\\n",
      "1      1.17                  1                 1          0.0             0   \n",
      "2      1.30                  1                 2          0.0             0   \n",
      "3      1.40                  1                 2          0.0             0   \n",
      "4      1.50                  1                 1          1.0             0   \n",
      "..      ...                ...               ...          ...           ...   \n",
      "422   74.20                  1                 2          0.0             0   \n",
      "423   74.50                  1                 1          1.0             1   \n",
      "424   74.70                  1                 2          0.0             1   \n",
      "425   74.80                  1                 2          0.0             0   \n",
      "426   74.90                  1                 1          1.0             0   \n",
      "\n",
      "     Aixpansion    Area  Distances  Score  \n",
      "0         22.99    7.41      50.87      1  \n",
      "1        104.98   97.58      82.48      3  \n",
      "2         67.29   66.64      34.84      1  \n",
      "3        179.42  178.07      96.35      3  \n",
      "4         95.46  110.55      81.42      2  \n",
      "..          ...     ...        ...    ...  \n",
      "422       61.14   66.40      35.38      1  \n",
      "423      106.44  117.54      71.89      3  \n",
      "424       51.29   61.17      98.06      2  \n",
      "425       42.39   44.12      40.26      3  \n",
      "426       55.73   59.30      52.49      3  \n",
      "\n",
      "[427 rows x 9 columns]\n",
      "118\n",
      "309\n"
     ]
    }
   ],
   "source": [
    "dev = dfs['Cumexp_development_14.04.2023']\n",
    "print(dev)\n",
    "aix = dev[[\"BlastocystD8\",\"Aixpansion\"]].dropna()\n",
    "aix1 = aix[aix[\"BlastocystD8\"]==1]\n",
    "aix0 = aix[aix[\"BlastocystD8\"]==0]\n",
    "print(aix1.shape[0])\n",
    "print(aix0.shape[0])"
   ]
  },
  {
   "cell_type": "markdown",
   "id": "c0988bd2",
   "metadata": {},
   "source": [
    "## We run a Mann-Whitney-U significance test. \n",
    "### We try to see if we can differentiate the embryos that developed into blastocyst based on the \"Aixpansion\", \"Area\", \"Distances\" and \"Score\" values.\n",
    "### We do the same for the cleavage"
   ]
  },
  {
   "cell_type": "code",
   "execution_count": 25,
   "id": "292bd654",
   "metadata": {},
   "outputs": [
    {
     "name": "stdout",
     "output_type": "stream",
     "text": [
      "0 309\n",
      "1 118\n"
     ]
    }
   ],
   "source": [
    "\n",
    "blasto0 = dev[dev[\"BlastocystD8\"]==0]\n",
    "blasto1 = dev[dev[\"BlastocystD8\"]==1]\n",
    "print(\"0\",blasto0.shape[0])\n",
    "print(\"1\",blasto1.shape[0])"
   ]
  },
  {
   "cell_type": "code",
   "execution_count": 26,
   "id": "5d321b2d",
   "metadata": {},
   "outputs": [
    {
     "name": "stdout",
     "output_type": "stream",
     "text": [
      "0 89\n",
      "1 284\n"
     ]
    }
   ],
   "source": [
    "cleav0 = dev[dev[\"Cleavage48h\"]==0]\n",
    "cleav1 = dev[dev[\"Cleavage48h\"]==1]\n",
    "\n",
    "print(\"0\",cleav0.shape[0])\n",
    "print(\"1\",cleav1.shape[0])"
   ]
  },
  {
   "cell_type": "code",
   "execution_count": 37,
   "id": "d5499b7a",
   "metadata": {},
   "outputs": [],
   "source": [
    "def do_the_tests(dev0,dev1):\n",
    "    from scipy.stats import mannwhitneyu\n",
    "    for method in [\"Aixpansion\",\"Area\",\"Distances\",\"Score\"]:\n",
    "        print(method, mannwhitneyu(dev0[method], dev1[method], alternative=\"less\"))"
   ]
  },
  {
   "cell_type": "code",
   "execution_count": 38,
   "id": "f2669cd3",
   "metadata": {},
   "outputs": [
    {
     "name": "stdout",
     "output_type": "stream",
     "text": [
      "Aixpansion MannwhitneyuResult(statistic=15601.0, pvalue=0.01056087998863517)\n",
      "Area MannwhitneyuResult(statistic=15967.0, pvalue=0.02358022885229582)\n",
      "Distances MannwhitneyuResult(statistic=16307.5, pvalue=0.04587164195294829)\n",
      "Score MannwhitneyuResult(statistic=17524.5, pvalue=0.25628817881060345)\n"
     ]
    }
   ],
   "source": [
    "do_the_tests(blasto0,blasto1)"
   ]
  },
  {
   "cell_type": "code",
   "execution_count": 39,
   "id": "34d502da",
   "metadata": {},
   "outputs": [
    {
     "name": "stdout",
     "output_type": "stream",
     "text": [
      "Aixpansion MannwhitneyuResult(statistic=13721.5, pvalue=0.8890179107086091)\n",
      "Area MannwhitneyuResult(statistic=13411.5, pvalue=0.8084096264156134)\n",
      "Distances MannwhitneyuResult(statistic=13551.0, pvalue=0.848312394352416)\n",
      "Score MannwhitneyuResult(statistic=13153.5, pvalue=0.7303431879319782)\n"
     ]
    }
   ],
   "source": [
    "do_the_tests(cleav0,cleav1)"
   ]
  },
  {
   "cell_type": "code",
   "execution_count": 40,
   "id": "1d6d08e1",
   "metadata": {},
   "outputs": [
    {
     "name": "stdout",
     "output_type": "stream",
     "text": [
      "0 188\n",
      "1 96\n"
     ]
    }
   ],
   "source": [
    "cleav1b0=cleav1[cleav1[\"BlastocystD8\"]==0]\n",
    "cleav1b1=cleav1[cleav1[\"BlastocystD8\"]==1]\n",
    "print(\"0\",cleav1b0.shape[0])\n",
    "print(\"1\",cleav1b1.shape[0])"
   ]
  },
  {
   "cell_type": "code",
   "execution_count": 41,
   "id": "2db68124",
   "metadata": {},
   "outputs": [
    {
     "name": "stdout",
     "output_type": "stream",
     "text": [
      "Aixpansion MannwhitneyuResult(statistic=7353.5, pvalue=0.005374352815082747)\n",
      "Area MannwhitneyuResult(statistic=7831.5, pvalue=0.03432888683882317)\n",
      "Distances MannwhitneyuResult(statistic=8332.0, pvalue=0.14543860692823724)\n",
      "Score MannwhitneyuResult(statistic=8472.5, pvalue=0.18737402697558664)\n"
     ]
    }
   ],
   "source": [
    "do_the_tests(cleav1b0,cleav1b1)"
   ]
  },
  {
   "cell_type": "markdown",
   "id": "6060ccc6",
   "metadata": {},
   "source": [
    "## Long message short: \n",
    "1. The differences in the values computed by Aixpansion, Area, and Distances between blastocysts and non-blastocysts are statistically significant.\n",
    "2. For those oocytes who reached cleavage, the differences in the values computed by Aixpansion and Area between blastocysts and non-blastocysts are statistically significant. This is specially try for Aixpansion which reaches a really low p-value\n",
    "### Next, we unsuccessfully try to use several methods to improve the AUC of the prediction. This is not worthy looking at"
   ]
  },
  {
   "cell_type": "code",
   "execution_count": 95,
   "id": "0cfb2861",
   "metadata": {},
   "outputs": [
    {
     "data": {
      "text/plain": [
       "[<matplotlib.lines.Line2D at 0x7fb8cfd5cfd0>]"
      ]
     },
     "execution_count": 95,
     "metadata": {},
     "output_type": "execute_result"
    },
    {
     "data": {
      "image/png": "[encoded data removed]",
      "text/plain": [
       "<Figure size 640x480 with 1 Axes>"
      ]
     },
     "metadata": {},
     "output_type": "display_data"
    }
   ],
   "source": [
    "from sklearn.neighbors import KernelDensity\n",
    "\n",
    "\n",
    "\n",
    "aix1np = aix1[\"Aixpansion\"].to_numpy()\n",
    "aix1np.shape = (aix1.shape[0],1)\n",
    "kde = KernelDensity(kernel='gaussian', bandwidth=10).fit(aix1np)\n",
    "X_plot = np.linspace(5, 270, 1000)[:, None]\n",
    "samples = np.exp(kde.score_samples(X_plot))\n",
    "plt.plot(X_plot, samples)"
   ]
  },
  {
   "cell_type": "code",
   "execution_count": null,
   "id": "bfc1c0d7",
   "metadata": {},
   "outputs": [],
   "source": [
    "\n",
    "sns.kdeplot(dev1[\"Aixpansion\"])\n",
    "sns.kdeplot(dev0[\"Aixpansion\"])"
   ]
  },
  {
   "cell_type": "code",
   "execution_count": 67,
   "id": "685b2f42",
   "metadata": {},
   "outputs": [
    {
     "data": {
      "text/plain": [
       "<Axes: xlabel='Area', ylabel='Density'>"
      ]
     },
     "execution_count": 67,
     "metadata": {},
     "output_type": "execute_result"
    },
    {
     "data": {
      "image/png": "[encoded data removed]",
      "text/plain": [
       "<Figure size 640x480 with 1 Axes>"
      ]
     },
     "metadata": {},
     "output_type": "display_data"
    }
   ],
   "source": [
    "sns.kdeplot(dev1[\"Area\"])\n",
    "sns.kdeplot(dev0[\"Area\"])"
   ]
  },
  {
   "cell_type": "code",
   "execution_count": 68,
   "id": "c37bc5f3",
   "metadata": {},
   "outputs": [
    {
     "data": {
      "text/plain": [
       "<Axes: xlabel='Distances', ylabel='Density'>"
      ]
     },
     "execution_count": 68,
     "metadata": {},
     "output_type": "execute_result"
    },
    {
     "data": {
      "image/png": "[encoded data removed]",
      "text/plain": [
       "<Figure size 640x480 with 1 Axes>"
      ]
     },
     "metadata": {},
     "output_type": "display_data"
    }
   ],
   "source": [
    "sns.kdeplot(dev1[\"Distances\"])\n",
    "sns.kdeplot(dev0[\"Distances\"])"
   ]
  },
  {
   "cell_type": "code",
   "execution_count": 69,
   "id": "63da8a4e",
   "metadata": {},
   "outputs": [
    {
     "data": {
      "text/plain": [
       "<Axes: xlabel='Score', ylabel='Density'>"
      ]
     },
     "execution_count": 69,
     "metadata": {},
     "output_type": "execute_result"
    },
    {
     "data": {
      "image/png": "[encoded data removed]",
      "text/plain": [
       "<Figure size 640x480 with 1 Axes>"
      ]
     },
     "metadata": {},
     "output_type": "display_data"
    }
   ],
   "source": [
    "sns.kdeplot(dev1[\"Score\"])\n",
    "sns.kdeplot(dev0[\"Score\"])"
   ]
  },
  {
   "cell_type": "code",
   "execution_count": 36,
   "id": "fc4a53e0",
   "metadata": {},
   "outputs": [
    {
     "name": "stdout",
     "output_type": "stream",
     "text": [
      "[[ 22.99]\n",
      " [104.98]\n",
      " [ 67.29]\n",
      " [179.42]\n",
      " [ 95.46]\n",
      " [ 42.21]\n",
      " [ 93.81]\n",
      " [ 69.09]\n",
      " [ 53.46]\n",
      " [ 53.24]\n",
      " [ 90.84]\n",
      " [  6.73]\n",
      " [ 39.89]\n",
      " [160.77]\n",
      " [ 63.58]\n",
      " [ 27.87]\n",
      " [ 65.94]\n",
      " [100.42]\n",
      " [ 99.78]\n",
      " [120.13]\n",
      " [ 64.75]\n",
      " [ 65.59]\n",
      " [139.47]\n",
      " [ 76.26]\n",
      " [ 24.75]\n",
      " [ 34.23]\n",
      " [ 37.17]\n",
      " [ 41.31]\n",
      " [ 42.26]\n",
      " [ 39.65]\n",
      " [104.52]\n",
      " [ 47.37]\n",
      " [ 79.65]\n",
      " [ 82.74]\n",
      " [ 84.21]\n",
      " [ 64.96]\n",
      " [116.13]\n",
      " [215.8 ]\n",
      " [ 33.92]\n",
      " [ 79.63]\n",
      " [ 84.69]\n",
      " [ 63.22]\n",
      " [ 36.41]\n",
      " [ 35.11]\n",
      " [ 47.04]\n",
      " [ 27.78]\n",
      " [ 25.14]\n",
      " [ 63.51]\n",
      " [ 69.81]\n",
      " [ 56.96]\n",
      " [ 62.18]\n",
      " [ 82.94]\n",
      " [ 79.13]\n",
      " [ 48.52]\n",
      " [ 35.93]\n",
      " [175.4 ]\n",
      " [ 42.2 ]\n",
      " [ 36.77]\n",
      " [ 56.08]\n",
      " [ 73.97]\n",
      " [172.78]\n",
      " [ 59.45]\n",
      " [106.72]\n",
      " [ 61.22]\n",
      " [ 53.71]\n",
      " [153.86]\n",
      " [ 76.96]\n",
      " [ 53.72]\n",
      " [ 35.16]\n",
      " [167.21]\n",
      " [ 64.06]\n",
      " [ 74.83]\n",
      " [ 66.64]\n",
      " [106.12]\n",
      " [ 64.73]\n",
      " [ 96.44]\n",
      " [ 96.85]\n",
      " [ 97.28]\n",
      " [ 22.02]\n",
      " [104.06]\n",
      " [ 55.52]\n",
      " [ 95.12]\n",
      " [ 60.24]\n",
      " [ 72.31]\n",
      " [ 17.75]\n",
      " [129.43]\n",
      " [ 63.94]\n",
      " [148.67]\n",
      " [ 96.06]\n",
      " [144.85]\n",
      " [ 16.87]\n",
      " [ 45.09]\n",
      " [ 87.19]\n",
      " [120.75]\n",
      " [ 89.94]\n",
      " [ 84.51]\n",
      " [188.69]\n",
      " [104.19]\n",
      " [ 20.92]\n",
      " [ 74.88]\n",
      " [ 31.24]\n",
      " [107.55]\n",
      " [103.95]\n",
      " [ 91.59]\n",
      " [ 55.89]\n",
      " [ 57.85]\n",
      " [ 77.53]\n",
      " [ 39.25]\n",
      " [ 31.31]\n",
      " [ 50.42]\n",
      " [127.64]\n",
      " [ 72.51]\n",
      " [ 10.81]\n",
      " [ 78.9 ]\n",
      " [137.42]\n",
      " [ 68.43]\n",
      " [ 98.97]\n",
      " [ 51.04]\n",
      " [ 66.77]\n",
      " [ 57.03]\n",
      " [122.6 ]\n",
      " [104.21]\n",
      " [ 35.09]\n",
      " [ 50.81]\n",
      " [ 75.31]\n",
      " [ 38.05]\n",
      " [ 99.61]\n",
      " [ 53.72]\n",
      " [104.  ]\n",
      " [111.95]\n",
      " [102.46]\n",
      " [ 51.9 ]\n",
      " [158.87]\n",
      " [ 99.36]\n",
      " [ 74.37]\n",
      " [ 19.14]\n",
      " [ 35.32]\n",
      " [ 10.54]\n",
      " [ 12.1 ]\n",
      " [ 80.05]\n",
      " [ 30.11]\n",
      " [ 54.47]\n",
      " [ 53.84]\n",
      " [ 78.63]\n",
      " [ 52.74]\n",
      " [ 65.53]\n",
      " [ 94.02]\n",
      " [ 31.77]\n",
      " [ 63.17]\n",
      " [ 91.71]\n",
      " [ 44.52]\n",
      " [ 64.63]\n",
      " [  8.31]\n",
      " [ 55.11]\n",
      " [ 43.92]\n",
      " [ 63.28]\n",
      " [ 65.  ]\n",
      " [ 52.28]\n",
      " [ 25.2 ]\n",
      " [ 85.76]\n",
      " [105.41]\n",
      " [ 71.2 ]\n",
      " [ 57.82]\n",
      " [119.  ]\n",
      " [ 31.92]\n",
      " [148.08]\n",
      " [ 69.33]\n",
      " [ 68.14]\n",
      " [ 59.14]\n",
      " [146.71]\n",
      " [ 54.31]\n",
      " [142.53]\n",
      " [ 91.69]\n",
      " [ 33.29]\n",
      " [ 51.48]\n",
      " [ 23.81]\n",
      " [107.09]\n",
      " [ 78.65]\n",
      " [220.94]\n",
      " [ 51.97]\n",
      " [ 85.68]\n",
      " [104.85]\n",
      " [132.73]\n",
      " [ 35.29]\n",
      " [ 25.87]\n",
      " [ 25.79]\n",
      " [111.88]\n",
      " [151.94]\n",
      " [ 30.15]\n",
      " [ 99.33]\n",
      " [ 77.32]\n",
      " [ 87.46]\n",
      " [ 73.45]\n",
      " [  9.38]\n",
      " [ 84.7 ]\n",
      " [ 48.63]\n",
      " [ 69.56]\n",
      " [ 72.16]\n",
      " [ 89.1 ]\n",
      " [ 97.98]\n",
      " [112.57]\n",
      " [ 65.04]\n",
      " [ 19.15]\n",
      " [104.53]\n",
      " [ 54.81]\n",
      " [ 81.4 ]\n",
      " [ 45.88]\n",
      " [ 50.31]\n",
      " [ 95.32]\n",
      " [ 60.83]\n",
      " [  1.29]\n",
      " [ 25.45]\n",
      " [  8.4 ]\n",
      " [ 20.92]\n",
      " [ 74.  ]\n",
      " [ 56.48]\n",
      " [ 22.5 ]\n",
      " [ 43.89]\n",
      " [ 77.12]\n",
      " [ 81.24]\n",
      " [ 20.04]\n",
      " [ 59.76]\n",
      " [  1.94]\n",
      " [ 70.16]\n",
      " [ 54.59]\n",
      " [106.71]\n",
      " [ 85.81]\n",
      " [ 19.31]\n",
      " [ 90.32]\n",
      " [ 23.23]\n",
      " [141.78]\n",
      " [ 76.76]\n",
      " [ 48.96]\n",
      " [ 28.64]\n",
      " [ 56.28]\n",
      " [ 79.71]\n",
      " [170.9 ]\n",
      " [ 71.57]\n",
      " [ 15.82]\n",
      " [ 31.89]\n",
      " [ 35.46]\n",
      " [ 90.51]\n",
      " [ 34.27]\n",
      " [ 62.15]\n",
      " [119.78]\n",
      " [ 48.03]\n",
      " [ 61.64]\n",
      " [ 86.35]\n",
      " [ 74.03]\n",
      " [109.37]\n",
      " [ 57.42]\n",
      " [145.54]\n",
      " [ 89.16]\n",
      " [ 45.92]\n",
      " [117.18]\n",
      " [ 58.29]\n",
      " [ 31.7 ]\n",
      " [282.73]\n",
      " [  2.06]\n",
      " [ 59.43]\n",
      " [ 50.66]\n",
      " [  8.55]\n",
      " [ 56.91]\n",
      " [ 24.52]\n",
      " [ 32.54]\n",
      " [ 79.58]\n",
      " [ 53.21]\n",
      " [ 86.46]\n",
      " [ 39.17]\n",
      " [ 60.07]\n",
      " [ 28.95]\n",
      " [185.  ]\n",
      " [128.45]\n",
      " [178.13]\n",
      " [ 60.58]\n",
      " [ 92.46]\n",
      " [150.13]\n",
      " [ 95.06]\n",
      " [ 89.46]\n",
      " [ 40.31]\n",
      " [ 55.19]\n",
      " [ 67.07]\n",
      " [ 90.12]\n",
      " [ 76.82]\n",
      " [ 46.86]\n",
      " [ 83.39]\n",
      " [ 41.53]\n",
      " [189.59]\n",
      " [ 71.36]\n",
      " [134.8 ]\n",
      " [179.07]\n",
      " [153.02]\n",
      " [127.65]\n",
      " [ 34.86]\n",
      " [187.79]\n",
      " [ 59.7 ]\n",
      " [ 89.18]\n",
      " [ 80.02]\n",
      " [ 82.76]\n",
      " [ 20.78]\n",
      " [ 17.33]\n",
      " [ 66.5 ]\n",
      " [255.97]\n",
      " [ 62.6 ]\n",
      " [ 71.95]\n",
      " [ 10.6 ]\n",
      " [ 45.  ]\n",
      " [ 45.26]\n",
      " [ 17.59]\n",
      " [ 27.41]\n",
      " [ 67.26]\n",
      " [ 47.27]\n",
      " [ 35.24]\n",
      " [ 58.  ]\n",
      " [ 89.67]\n",
      " [103.45]\n",
      " [ 30.92]\n",
      " [ 49.69]\n",
      " [ 46.7 ]\n",
      " [ 48.27]\n",
      " [  1.56]\n",
      " [ 47.37]\n",
      " [ 38.12]\n",
      " [ 20.42]\n",
      " [ 28.69]\n",
      " [121.29]\n",
      " [ 63.17]\n",
      " [ 42.79]\n",
      " [ 67.78]\n",
      " [ 87.31]\n",
      " [ 34.09]\n",
      " [ 36.25]\n",
      " [ 28.51]\n",
      " [ 11.19]\n",
      " [183.18]\n",
      " [ 64.95]\n",
      " [ 80.97]\n",
      " [127.21]\n",
      " [231.44]\n",
      " [ 14.8 ]\n",
      " [ 31.21]\n",
      " [ 12.29]\n",
      " [306.88]\n",
      " [ 92.42]\n",
      " [ 61.13]\n",
      " [ 74.9 ]\n",
      " [ 31.95]\n",
      " [ 80.41]\n",
      " [ 65.96]\n",
      " [ 38.42]\n",
      " [ 69.56]\n",
      " [131.6 ]\n",
      " [ 67.95]\n",
      " [144.13]\n",
      " [113.34]\n",
      " [126.21]\n",
      " [182.08]\n",
      " [103.51]\n",
      " [124.54]\n",
      " [150.65]\n",
      " [200.88]\n",
      " [  9.81]\n",
      " [ 12.78]\n",
      " [ 75.67]\n",
      " [ 41.63]\n",
      " [104.48]\n",
      " [ 11.2 ]\n",
      " [ 78.45]\n",
      " [ 28.26]\n",
      " [204.43]\n",
      " [136.37]\n",
      " [116.69]\n",
      " [ 11.14]\n",
      " [124.17]\n",
      " [ 85.76]\n",
      " [237.35]\n",
      " [ 90.21]\n",
      " [ 69.14]\n",
      " [125.34]\n",
      " [ 65.07]\n",
      " [ 74.85]\n",
      " [108.85]\n",
      " [101.73]\n",
      " [ 71.61]\n",
      " [ 74.35]\n",
      " [ 79.7 ]\n",
      " [162.92]\n",
      " [107.44]\n",
      " [ 49.92]\n",
      " [ 45.32]\n",
      " [114.9 ]\n",
      " [ 82.02]\n",
      " [ 44.69]\n",
      " [ 91.54]\n",
      " [ 70.79]\n",
      " [ 57.03]\n",
      " [ 75.1 ]\n",
      " [140.51]\n",
      " [103.09]\n",
      " [ 16.7 ]\n",
      " [ 91.86]\n",
      " [ 62.9 ]\n",
      " [ 46.36]\n",
      " [ 82.47]\n",
      " [170.77]\n",
      " [ 41.56]\n",
      " [ 44.14]\n",
      " [ 46.65]\n",
      " [ 30.82]\n",
      " [ 46.63]\n",
      " [ 81.8 ]\n",
      " [ 75.31]\n",
      " [104.33]\n",
      " [ 91.99]\n",
      " [129.53]\n",
      " [  4.79]\n",
      " [ 71.48]\n",
      " [ 86.97]\n",
      " [ 68.29]\n",
      " [ 41.78]\n",
      " [ 34.66]\n",
      " [  1.73]\n",
      " [ 61.14]\n",
      " [106.44]\n",
      " [ 51.29]\n",
      " [ 42.39]\n",
      " [ 55.73]]\n"
     ]
    }
   ],
   "source": [
    "X=dev[[\"Aixpansion\"]].to_numpy()\n",
    "#X.shape=(1,len(X))\n",
    "print(X)\n",
    "y=dev[\"BlastocystD8\"].to_numpy()"
   ]
  },
  {
   "cell_type": "code",
   "execution_count": null,
   "id": "78940016",
   "metadata": {},
   "outputs": [],
   "source": []
  },
  {
   "cell_type": "code",
   "execution_count": 78,
   "id": "01d209f7",
   "metadata": {},
   "outputs": [
    {
     "name": "stdout",
     "output_type": "stream",
     "text": [
      "DecisionTreeClassifier(criterion='entropy', max_leaf_nodes=2,\n",
      "                       min_samples_split=20)\n",
      "[ 1.9979996e+03  9.5498840e+02  4.2210000e-02  7.5578390e+02\n",
      "  5.3460000e-02  5.3240000e-02  3.8349440e+02  6.7300000e-03\n",
      "  3.9890000e-02  4.4667071e+03  6.3580000e-02  6.4750000e-02\n",
      "  6.5590000e-02  3.4230000e-02  3.7170000e-02  4.2260000e-02\n",
      "  3.9650000e-02  4.7370000e-02  7.9650000e-02  8.2740000e-02\n",
      "  6.4960000e-02  2.5140000e-02  6.3510000e-02  6.2180000e-02\n",
      "  8.2940000e-02  7.9130000e-02  4.8520000e-02  4.0838400e+03\n",
      "  4.2200000e-02  3.6770000e-02  4.1838716e+03  5.3710000e-02\n",
      "  4.4987004e+03  5.3720000e-02  4.3509159e+03  6.4060000e-02\n",
      "  7.4830000e-02  6.6640000e-02  1.0707264e+03  2.2020000e-02\n",
      "  5.5520000e-02  7.2310000e-02  4.4599311e+03  1.0260764e+03\n",
      "  4.3969775e+03  8.7190000e-02  3.3269375e+03  3.3649839e+03\n",
      "  1.9183439e+03  7.4880000e-02  1.8938975e+03  4.7917190e+02\n",
      "  3.9250000e-02  7.2510000e-02  1.0810000e-02  4.1909436e+03\n",
      "  6.8430000e-02  1.3606391e+03  6.6770000e-02  5.7030000e-02\n",
      "  1.4319479e+03  5.3720000e-02  2.6466975e+03  4.4850231e+03\n",
      "  7.4370000e-02  8.0050000e-02  5.4470000e-02  5.3840000e-02\n",
      "  7.8630000e-02  3.1770000e-02  4.4520000e-02  6.4630000e-02\n",
      "  5.5110000e-02  4.3920000e-02  2.5200000e-02  7.1200000e-02\n",
      "  5.7820000e-02  3.2040000e+03  3.1920000e-02  5.9140000e-02\n",
      "  4.4312759e+03  3.3290000e-02  5.1480000e-02  2.3810000e-02\n",
      "  8.5680000e-02  1.9849775e+03  2.5790000e-02  4.4906364e+03\n",
      "  1.4008511e+03  7.7320000e-02  8.4700000e-02  7.2160000e-02\n",
      "  8.9100000e-02  1.2487196e+03  1.9527791e+03  5.4810000e-02\n",
      "  5.0310000e-02  9.3829760e+02  6.0830000e-02  1.2900000e-03\n",
      "  2.5450000e-02  8.4000000e-03  2.0920000e-02  5.6480000e-02\n",
      "  4.3890000e-02  7.7120000e-02  8.1240000e-02  2.0040000e-02\n",
      "  5.9760000e-02  1.9400000e-03  7.0160000e-02  4.3252316e+03\n",
      "  7.6760000e-02  4.2471900e+03  7.1570000e-02  3.1890000e-02\n",
      "  3.4103990e+02  3.4270000e-02  3.2595516e+03  4.8030000e-02\n",
      "  7.4030000e-02  2.4179031e+03  4.4105084e+03  8.9160000e-02\n",
      "  3.0696476e+03  5.9430000e-02  2.4520000e-02  7.9580000e-02\n",
      "  5.3210000e-02  3.9170000e-02  6.0070000e-02  3.7950975e+03\n",
      "  3.9650031e+03  9.0719640e+02  8.9460000e-02  4.0310000e-02\n",
      "  6.7070000e-02  2.9058560e+02  4.6860000e-02  8.3390000e-02\n",
      "  3.3035319e+03  7.1360000e-02  4.0919600e+03  3.9206351e+03\n",
      "  3.4860000e-02  8.0020000e-02  6.6500000e-02 -2.5597000e-01\n",
      "  7.1950000e-02  4.5000000e-02  4.5260000e-02  1.7590000e-02\n",
      "  6.7260000e-02  4.7270000e-02  3.5240000e-02  5.8000000e-02\n",
      "  8.9670000e-02  3.0920000e-02  4.9690000e-02  4.6700000e-02\n",
      "  4.8270000e-02  4.7370000e-02  6.3170000e-02  8.7310000e-02\n",
      "  3.4090000e-02  2.8510000e-02  3.7277159e+03  3.1210000e-02\n",
      "  1.2290000e-02 -3.0688000e-01  5.8374360e+02  3.1950000e-02\n",
      "  8.0410000e-02  6.5960000e-02  3.8420000e-02  6.7950000e-02\n",
      "  2.7644444e+03  1.2780000e-02  7.5670000e-02  1.1200000e-02\n",
      "  7.8450000e-02  2.0566751e+03  6.9140000e-02  3.6202844e+03\n",
      "  2.3701775e+03  7.9700000e-02  4.4372736e+03  2.2380464e+03\n",
      "  4.9920000e-02  4.7282840e+02  5.7030000e-02  7.5100000e-02\n",
      "  4.2900399e+03  1.8053519e+03  5.1334040e+02  6.2900000e-02\n",
      "  8.2470000e-02  4.2513071e+03  4.1560000e-02  4.4140000e-02\n",
      "  3.0820000e-02  4.6630000e-02  8.1800000e-02  7.5310000e-02\n",
      "  1.9325511e+03  5.2973990e+02  3.8512791e+03  7.1480000e-02\n",
      "  6.8290000e-02  1.7300000e-03  6.1140000e-02  5.1290000e-02\n",
      "  4.2390000e-02  5.5730000e-02]\n",
      "0.6006014215418262\n",
      "DecisionTreeClassifier(criterion='entropy', max_leaf_nodes=2,\n",
      "                       min_samples_split=20)\n",
      "[ 2.2990000e-02  6.7290000e-02  3.9036636e+03  6.9090000e-02\n",
      "  2.7870000e-02  6.5940000e-02  1.5210236e+03  1.4507516e+03\n",
      "  3.2840831e+03  4.2588191e+03  7.6260000e-02  2.4750000e-02\n",
      "  4.1310000e-02  1.9517696e+03  8.4210000e-02  2.9891231e+03\n",
      "  8.0336000e+02  3.3920000e-02  7.9630000e-02  8.4690000e-02\n",
      "  6.3220000e-02  3.6410000e-02  3.5110000e-02  4.7040000e-02\n",
      "  2.7780000e-02  6.9810000e-02  5.6960000e-02  3.5930000e-02\n",
      "  5.6080000e-02  7.3970000e-02  5.9450000e-02  2.1690416e+03\n",
      "  6.1220000e-02  7.6960000e-02  3.5160000e-02  2.1107456e+03\n",
      "  6.4730000e-02  1.1185775e+03  1.1684016e+03  1.9051164e+03\n",
      "  9.1438560e+02  6.0240000e-02  1.7750000e-02  3.8461751e+03\n",
      "  6.3940000e-02  1.6870000e-02  4.5090000e-02  8.9940000e-02\n",
      "  8.4510000e-02  2.0920000e-02  3.1240000e-02  2.2484975e+03\n",
      "  5.5890000e-02  5.7850000e-02  7.7530000e-02  3.1310000e-02\n",
      "  5.0420000e-02  3.7514304e+03  7.8900000e-02  5.1040000e-02\n",
      "  3.4502400e+03  1.9203759e+03  3.5090000e-02  5.0810000e-02\n",
      "  7.5310000e-02  3.8050000e-02  1.8990000e+03  1.7395484e+03\n",
      "  5.1900000e-02  1.4041904e+03  1.9140000e-02  3.5320000e-02\n",
      "  1.0540000e-02  1.2100000e-02  3.0110000e-02  5.2740000e-02\n",
      "  6.5530000e-02  7.8143960e+02  6.3170000e-02  4.9437590e+02\n",
      "  8.3100000e-03  6.3280000e-02  6.5000000e-02  5.2280000e-02\n",
      "  8.5760000e-02  2.0408319e+03  4.4521136e+03  6.9330000e-02\n",
      "  6.8140000e-02  5.4310000e-02  4.3444991e+03  4.9184390e+02\n",
      "  2.2046319e+03  7.8650000e-02 -2.2094000e-01  5.1970000e-02\n",
      "  4.0040471e+03  3.5290000e-02  2.5870000e-02  2.6406656e+03\n",
      "  3.0150000e-02  8.7460000e-02  7.3450000e-02  9.3800000e-03\n",
      "  4.8630000e-02  6.9560000e-02  2.6996951e+03  6.5040000e-02\n",
      "  1.9150000e-02  8.1400000e-02  4.5880000e-02  7.4000000e-02\n",
      "  2.2500000e-02  5.4590000e-02  2.1680759e+03  8.5810000e-02\n",
      "  1.9310000e-02  3.1649760e+02  2.3230000e-02  4.8960000e-02\n",
      "  2.8640000e-02  5.6280000e-02  7.9710000e-02  1.5820000e-02\n",
      "  3.5460000e-02  6.2150000e-02  6.1640000e-02  8.6350000e-02\n",
      "  5.7420000e-02  4.5920000e-02  5.8290000e-02  3.1700000e-02\n",
      " -2.8273000e-01  2.0600000e-03  5.0660000e-02  8.5500000e-03\n",
      "  5.6910000e-02  3.2540000e-02  8.6460000e-02  2.8950000e-02\n",
      "  3.6000000e+03  6.0580000e-02  5.8874840e+02  4.4762831e+03\n",
      "  5.5190000e-02  7.6820000e-02  4.1530000e-02  4.4960796e+03\n",
      "  3.7519775e+03  3.4248159e+03  5.9700000e-02  8.9180000e-02\n",
      "  8.2760000e-02  2.0780000e-02  1.7330000e-02  6.2600000e-02\n",
      "  1.0600000e-02  2.7410000e-02  1.8425975e+03  1.5600000e-03\n",
      "  3.8120000e-02  2.0420000e-02  2.8690000e-02  3.3636359e+03\n",
      "  4.2790000e-02  6.7780000e-02  3.6250000e-02  1.1190000e-02\n",
      "  3.7058876e+03  6.4950000e-02  8.0970000e-02 -2.3144000e-01\n",
      "  1.4800000e-02  6.1130000e-02  7.4900000e-02  6.9560000e-02\n",
      "  3.9524400e+03  4.3818431e+03  3.6711359e+03  3.7666736e+03\n",
      "  1.8487799e+03  3.5721884e+03  4.4810775e+03  2.3950256e+03\n",
      "  9.8100000e-03  4.1630000e-02  1.9477296e+03  2.8260000e-02\n",
      "  4.1529231e+03  3.0323439e+03  1.1140000e-02  3.5495111e+03\n",
      "  8.5760000e-02 -2.3735000e-01  3.0225590e+02  6.5070000e-02\n",
      "  7.4850000e-02  1.6623071e+03  7.1610000e-02  7.4350000e-02\n",
      "  4.5320000e-02  2.8919900e+03  8.2020000e-02  4.4690000e-02\n",
      "  7.0790000e-02  1.6700000e-02  4.6360000e-02  4.6650000e-02\n",
      "  4.7900000e-03  8.6970000e-02  4.1780000e-02  3.4660000e-02\n",
      "  2.1419264e+03]\n",
      "0.5667510455646049\n"
     ]
    }
   ],
   "source": [
    "from sklearn.model_selection import KFold\n",
    "from sklearn.metrics import roc_auc_score\n",
    "\n",
    "kf = KFold(n_splits=2, shuffle=True)\n",
    "for train, test in kf.split(X):\n",
    "    Xtrain = X[train]\n",
    "    Xtest = X[test]\n",
    "    ytrain = y[train]\n",
    "    ytest = y[test]\n",
    "    dtc = tree.DecisionTreeClassifier(min_samples_split=20, max_leaf_nodes=2, criterion=\"entropy\")\n",
    "    dtc.fit(Xtrain, ytrain)\n",
    "    #tree.plot_tree(dtc)\n",
    "    plt.show()\n",
    "    print(dtc)\n",
    "    #y_pred = dtc.predict_proba(Xtest)[:,1]+(1./1000)*Xtest[:,0]\n",
    "    y_pred = (Xtest[:,0]<90)*(1./1000)*Xtest[:,0]+\\\n",
    "             (np.logical_and((Xtest[:,0]>90),(Xtest[:,0]<220)))*(4500-(Xtest[:,0]-155)**2)-\\\n",
    "             (Xtest[:,0]>220)*(1./1000)*Xtest[:,0]\n",
    "    print(y_pred)\n",
    "    sc = roc_auc_score(ytest,y_pred)\n",
    "    print(sc)\n",
    "    #print(\"%s %s\" % (train, test))"
   ]
  },
  {
   "cell_type": "code",
   "execution_count": null,
   "id": "1bed6ee9",
   "metadata": {},
   "outputs": [],
   "source": [
    "\n"
   ]
  },
  {
   "cell_type": "code",
   "execution_count": 38,
   "id": "ccac9081",
   "metadata": {},
   "outputs": [
    {
     "data": {
      "text/html": [
       "<style>#sk-container-id-1 {color: black;background-color: white;}#sk-container-id-1 pre{padding: 0;}#sk-container-id-1 div.sk-toggleable {background-color: white;}#sk-container-id-1 label.sk-toggleable__label {cursor: pointer;display: block;width: 100%;margin-bottom: 0;padding: 0.3em;box-sizing: border-box;text-align: center;}#sk-container-id-1 label.sk-toggleable__label-arrow:before {content: \"▸\";float: left;margin-right: 0.25em;color: #696969;}#sk-container-id-1 label.sk-toggleable__label-arrow:hover:before {color: black;}#sk-container-id-1 div.sk-estimator:hover label.sk-toggleable__label-arrow:before {color: black;}#sk-container-id-1 div.sk-toggleable__content {max-height: 0;max-width: 0;overflow: hidden;text-align: left;background-color: #f0f8ff;}#sk-container-id-1 div.sk-toggleable__content pre {margin: 0.2em;color: black;border-radius: 0.25em;background-color: #f0f8ff;}#sk-container-id-1 input.sk-toggleable__control:checked~div.sk-toggleable__content {max-height: 200px;max-width: 100%;overflow: auto;}#sk-container-id-1 input.sk-toggleable__control:checked~label.sk-toggleable__label-arrow:before {content: \"▾\";}#sk-container-id-1 div.sk-estimator input.sk-toggleable__control:checked~label.sk-toggleable__label {background-color: #d4ebff;}#sk-container-id-1 div.sk-label input.sk-toggleable__control:checked~label.sk-toggleable__label {background-color: #d4ebff;}#sk-container-id-1 input.sk-hidden--visually {border: 0;clip: rect(1px 1px 1px 1px);clip: rect(1px, 1px, 1px, 1px);height: 1px;margin: -1px;overflow: hidden;padding: 0;position: absolute;width: 1px;}#sk-container-id-1 div.sk-estimator {font-family: monospace;background-color: #f0f8ff;border: 1px dotted black;border-radius: 0.25em;box-sizing: border-box;margin-bottom: 0.5em;}#sk-container-id-1 div.sk-estimator:hover {background-color: #d4ebff;}#sk-container-id-1 div.sk-parallel-item::after {content: \"\";width: 100%;border-bottom: 1px solid gray;flex-grow: 1;}#sk-container-id-1 div.sk-label:hover label.sk-toggleable__label {background-color: #d4ebff;}#sk-container-id-1 div.sk-serial::before {content: \"\";position: absolute;border-left: 1px solid gray;box-sizing: border-box;top: 0;bottom: 0;left: 50%;z-index: 0;}#sk-container-id-1 div.sk-serial {display: flex;flex-direction: column;align-items: center;background-color: white;padding-right: 0.2em;padding-left: 0.2em;position: relative;}#sk-container-id-1 div.sk-item {position: relative;z-index: 1;}#sk-container-id-1 div.sk-parallel {display: flex;align-items: stretch;justify-content: center;background-color: white;position: relative;}#sk-container-id-1 div.sk-item::before, #sk-container-id-1 div.sk-parallel-item::before {content: \"\";position: absolute;border-left: 1px solid gray;box-sizing: border-box;top: 0;bottom: 0;left: 50%;z-index: -1;}#sk-container-id-1 div.sk-parallel-item {display: flex;flex-direction: column;z-index: 1;position: relative;background-color: white;}#sk-container-id-1 div.sk-parallel-item:first-child::after {align-self: flex-end;width: 50%;}#sk-container-id-1 div.sk-parallel-item:last-child::after {align-self: flex-start;width: 50%;}#sk-container-id-1 div.sk-parallel-item:only-child::after {width: 0;}#sk-container-id-1 div.sk-dashed-wrapped {border: 1px dashed gray;margin: 0 0.4em 0.5em 0.4em;box-sizing: border-box;padding-bottom: 0.4em;background-color: white;}#sk-container-id-1 div.sk-label label {font-family: monospace;font-weight: bold;display: inline-block;line-height: 1.2em;}#sk-container-id-1 div.sk-label-container {text-align: center;}#sk-container-id-1 div.sk-container {/* jupyter's `normalize.less` sets `[hidden] { display: none; }` but bootstrap.min.css set `[hidden] { display: none !important; }` so we also need the `!important` here to be able to override the default hidden behavior on the sphinx rendered scikit-learn.org. See: https://github.com/scikit-learn/scikit-learn/issues/21755 */display: inline-block !important;position: relative;}#sk-container-id-1 div.sk-text-repr-fallback {display: none;}</style><div id=\"sk-container-id-1\" class=\"sk-top-container\"><div class=\"sk-text-repr-fallback\"><pre>DecisionTreeClassifier(min_samples_split=20)</pre><b>In a Jupyter environment, please rerun this cell to show the HTML representation or trust the notebook. <br />On GitHub, the HTML representation is unable to render, please try loading this page with nbviewer.org.</b></div><div class=\"sk-container\" hidden><div class=\"sk-item\"><div class=\"sk-estimator sk-toggleable\"><input class=\"sk-toggleable__control sk-hidden--visually\" id=\"sk-estimator-id-1\" type=\"checkbox\" checked><label for=\"sk-estimator-id-1\" class=\"sk-toggleable__label sk-toggleable__label-arrow\">DecisionTreeClassifier</label><div class=\"sk-toggleable__content\"><pre>DecisionTreeClassifier(min_samples_split=20)</pre></div></div></div></div></div>"
      ],
      "text/plain": [
       "DecisionTreeClassifier(min_samples_split=20)"
      ]
     },
     "execution_count": 38,
     "metadata": {},
     "output_type": "execute_result"
    }
   ],
   "source": []
  },
  {
   "cell_type": "code",
   "execution_count": 39,
   "id": "01b602e3",
   "metadata": {},
   "outputs": [
    {
     "data": {
      "text/plain": [
       "array([0, 0, 0, 0, 0, 0, 0, 0, 0, 0, 0, 1, 0, 0, 0, 0, 0, 0, 0, 0, 0, 0,\n",
       "       1, 0, 0, 0, 0, 0, 0, 0, 0, 0, 0, 1, 0, 0, 0, 1, 0, 0, 0, 0, 0, 0,\n",
       "       0, 0, 0, 0, 0, 0, 0, 0, 0, 0, 0, 0, 0, 0, 0, 0, 0, 0, 0, 0, 0, 0,\n",
       "       1, 0, 0, 0, 0, 0, 0, 0, 0, 1, 1, 1, 0, 1, 0, 0, 1, 0, 1, 0, 0, 1,\n",
       "       0, 0, 0, 0, 0, 0, 0, 0, 1, 0, 0, 0, 0, 0, 0, 0, 0, 0, 1, 0, 0, 0,\n",
       "       0, 0, 0, 0, 1, 0, 1, 0, 0, 0, 0, 0, 0, 0, 0, 0, 0, 0, 1, 1, 1, 0,\n",
       "       0, 1, 0, 0, 0, 0, 0, 1, 0, 0, 0, 0, 0, 0, 0, 1, 1, 0, 0, 0, 0, 0,\n",
       "       0, 0, 0, 0, 0, 0, 0, 0, 0, 0, 0, 1, 0, 0, 0, 1, 1, 0, 0, 0, 0, 0,\n",
       "       0, 0, 0, 0, 0, 0, 1, 0, 0, 0, 1, 0, 0, 1, 1, 0, 0, 0, 0, 0, 0, 0,\n",
       "       0, 1, 0, 0, 0, 0, 0, 0, 0, 0, 0, 0, 0, 0, 0, 0, 0, 0, 0, 0, 1, 0,\n",
       "       0, 0, 0, 0, 0, 0, 0, 0, 0, 0, 0, 0, 0, 0, 0, 0, 0, 0, 0, 1, 0, 0,\n",
       "       0, 0, 0, 0, 0, 0, 0, 0, 0, 0, 0, 0, 0, 1, 1, 0, 0, 0, 0, 0, 0, 0,\n",
       "       0, 0, 0, 0, 0, 0, 0, 0, 0, 0, 0, 0, 1, 0, 0, 0, 0, 0, 0, 0, 0, 0,\n",
       "       0, 1, 0, 1, 0, 0, 0, 0, 1, 0, 0, 0, 0, 0, 0, 0, 0, 0, 0, 0, 0, 0,\n",
       "       0, 0, 1, 0, 0, 0, 0, 0, 0, 0, 0, 0, 0, 0, 0, 0, 0, 0, 1, 0, 0, 0,\n",
       "       0, 0, 1, 0, 0, 0, 0, 0, 0, 0, 0, 0, 0, 0, 1, 0, 0, 1, 0, 0, 0, 1,\n",
       "       0, 0, 0, 0, 0, 0, 0, 0, 1, 0, 0, 1, 0, 0, 0, 1, 1, 1, 1, 0, 1, 0,\n",
       "       0, 0, 0, 0, 0, 0, 0, 0, 1, 0, 0, 0, 0, 0, 0, 0, 0, 1, 0, 0, 1, 0,\n",
       "       0, 0, 0, 0, 0, 0, 0, 1, 0, 0, 0, 0, 0, 0, 0, 0, 0, 0, 1, 0, 0, 0,\n",
       "       0, 0, 0, 0, 0, 0, 1, 0, 0])"
      ]
     },
     "execution_count": 39,
     "metadata": {},
     "output_type": "execute_result"
    }
   ],
   "source": [
    "dtc.predict(X)"
   ]
  }
 ],
 "metadata": {
  "kernelspec": {
   "display_name": "Python 3 (ipykernel)",
   "language": "python",
   "name": "python3"
  },
  "language_info": {
   "codemirror_mode": {
    "name": "ipython",
    "version": 3
   },
   "file_extension": ".py",
   "mimetype": "text/x-python",
   "name": "python",
   "nbconvert_exporter": "python",
   "pygments_lexer": "ipython3",
   "version": "3.10.6"
  }
 },
 "nbformat": 4,
 "nbformat_minor": 5
}
