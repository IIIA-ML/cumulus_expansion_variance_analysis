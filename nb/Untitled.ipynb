{
 "cells": [
  {
   "cell_type": "code",
   "execution_count": 243,
   "id": "832f5a69-ed92-4c16-acb8-09d649c0de2e",
   "metadata": {},
   "outputs": [],
   "source": [
    "import cmdstanpy as c\n",
    "import numpy as np\n",
    "import seaborn as sns"
   ]
  },
  {
   "cell_type": "code",
   "execution_count": null,
   "id": "3533dc84-9b5c-47d7-ab22-06a9ba9cfed8",
   "metadata": {},
   "outputs": [],
   "source": []
  },
  {
   "cell_type": "code",
   "execution_count": 193,
   "id": "4c0402e6-a5b6-4209-8642-61dc6fdbb1ac",
   "metadata": {},
   "outputs": [],
   "source": [
    "# First we generate some data"
   ]
  },
  {
   "cell_type": "code",
   "execution_count": null,
   "id": "f8184d73-0110-4dc7-a4ba-f19239a97c72",
   "metadata": {},
   "outputs": [],
   "source": [
    "np.random.seed(837462873)\n",
    "objects = 300\n",
    "judges = 10\n",
    "repeats = 2\n",
    "mu = 10\n",
    "sigma_J = 2\n",
    "sigma_T = 3\n",
    "#sigma_E = 0.3\n",
    "sigma_I = np.arange(judges)/10 + 0.2\n",
    "#print(sigma_I)\n",
    "sigma_errors = np.tile(sigma_I,(objects,repeats,1))\n",
    "sigma_errors = np.swapaxes(sigma_errors,1,2)\n",
    "#print(\"sigma_errors=\",sigma_errors)\n",
    "x = mu+np.random.normal(scale=sigma_errors)\n",
    "#print(data)\n",
    "a = np.random.normal(size=judges, scale=sigma_J)+1\n",
    "#print(\"a=\",a)\n",
    "b = np.random.normal(size=objects, scale=sigma_T) \n",
    "#print(expert_variances)\n",
    "#print(data)\n",
    "a.shape=(1,judges,1)\n",
    "x+=a\n",
    "a.shape=(judges)\n",
    "b.shape=(objects,1,1)\n",
    "x+=b\n",
    "b.shape=(objects)\n",
    "\n",
    "#print(data)\n",
    "\n",
    "#print(data)\n",
    "#for j in range(judges):\n",
    "#    m_j = np.random.normal(real,expert\n",
    "#for i in range(objects):\n",
    "#    for j in \n",
    "#    data[i,"
   ]
  },
  {
   "cell_type": "code",
   "execution_count": null,
   "id": "ebccdc9f-840a-49ad-a189-5fb89a838ea4",
   "metadata": {},
   "outputs": [],
   "source": [
    "sigma_E=np.mean(sigma_I)\n",
    "print(sigma_E)\n",
    "rho = (sigma_T*sigma_T)/(sigma_T*sigma_T + sigma_J*sigma_J + sigma_E*sigma_E)\n",
    "print(rho)"
   ]
  },
  {
   "cell_type": "code",
   "execution_count": 348,
   "id": "8e5c5ab0-6497-4d73-a7c4-23970f88631a",
   "metadata": {},
   "outputs": [],
   "source": [
    "data = {\"N\":objects,\n",
    "        \"J\":judges,\n",
    "        \"R\":repeats,\n",
    "        \"x\":x}"
   ]
  },
  {
   "cell_type": "code",
   "execution_count": 349,
   "id": "f6d7b62b-3f25-4284-8a92-6a5ca01eee81",
   "metadata": {},
   "outputs": [
    {
     "name": "stderr",
     "output_type": "stream",
     "text": [
      "INFO:cmdstanpy:found newer exe file, not recompiling\n",
      "INFO:cmdstanpy:compiled model file: /home/jupyterlab/jupyterlab/lab/jesus.cerquides/annelies/annelies\n"
     ]
    }
   ],
   "source": [
    "m = c.CmdStanModel(stan_file=\"annelies.stan\")"
   ]
  },
  {
   "cell_type": "code",
   "execution_count": null,
   "id": "a29d775d-47c2-42a3-b1e7-b9fb2884d223",
   "metadata": {},
   "outputs": [],
   "source": [
    "posterior = m.sample(data=data)"
   ]
  },
  {
   "cell_type": "code",
   "execution_count": 383,
   "id": "f8390bc9-6151-4f68-84f3-bda2d2163090",
   "metadata": {},
   "outputs": [
    {
     "name": "stderr",
     "output_type": "stream",
     "text": [
      "INFO:cmdstanpy:Processing csv files: /tmp/tmp93ns3lsn/annelies-202112220022-1-untke5_s.csv, /tmp/tmp93ns3lsn/annelies-202112220022-2-7bwa07fz.csv, /tmp/tmp93ns3lsn/annelies-202112220022-3-t7zddld5.csv, /tmp/tmp93ns3lsn/annelies-202112220022-4-9r1hp3gf.csv\n",
      "\n",
      "Checking sampler transitions treedepth.\n",
      "4000 of 4000 (1e+02%) transitions hit the maximum treedepth limit of 10, or 2^10 leapfrog steps.\n",
      "Trajectories that are prematurely terminated due to this limit will result in slow exploration.\n",
      "For optimal performance, increase this limit.\n",
      "\n",
      "Checking sampler transitions for divergences.\n",
      "No divergent transitions found.\n",
      "\n",
      "Checking E-BFMI - sampler transitions HMC potential energy.\n",
      "E-BFMI satisfactory.\n",
      "\n",
      "The following parameters had fewer than 0.001 effective draws per transition:\n",
      "  b[1], b[2], b[3], b[4], b[5], b[6], b[7], b[8], b[9], b[10], b[11], b[12], b[13], b[14], b[15], b[16], b[17], b[18], b[19], b[20], b[21], b[22], b[23], b[24], b[25], b[26], b[27], b[28], b[29], b[30], b[31], b[32], b[33], b[34], b[35], b[36], b[37], b[38], b[39], b[40], b[41], b[42], b[43], b[44], b[45], b[46], b[47], b[48], b[49], b[50], b[51], b[52], b[53], b[54], b[55], b[56], b[57], b[58], b[59], b[60], b[61], b[62], b[63], b[64], b[65], b[66], b[67], b[68], b[69], b[70], b[71], b[72], b[73], b[74], b[75], b[76], b[77], b[78], b[79], b[80], b[81], b[82], b[83], b[84], b[85], b[86], b[87], b[88], b[89], b[90], b[91], b[92], b[93], b[94], b[95], b[96], b[97], b[98], b[99], b[100], b[101], b[102], b[103], b[104], b[105], b[106], b[107], b[108], b[109], b[110], b[111], b[112], b[113], b[114], b[115], b[116], b[117], b[118], b[119], b[120], b[121], b[122], b[123], b[124], b[125], b[126], b[127], b[128], b[129], b[130], b[131], b[132], b[133], b[134], b[135], b[136], b[137], b[138], b[139], b[140], b[141], b[142], b[143], b[144], b[145], b[146], b[147], b[148], b[149], b[150], b[151], b[152], b[153], b[154], b[155], b[156], b[157], b[158], b[159], b[160], b[161], b[162], b[163], b[164], b[165], b[166], b[167], b[168], b[169], b[170], b[171], b[172], b[173], b[174], b[175], b[176], b[177], b[178], b[179], b[180], b[181], b[182], b[183], b[184], b[185], b[186], b[187], b[188], b[189], b[190], b[191], b[192], b[193], b[194], b[195], b[196], b[197], b[198], b[199], b[200], b[201], b[202], b[203], b[204], b[205], b[206], b[207], b[208], b[209], b[210], b[211], b[212], b[213], b[214], b[215], b[216], b[217], b[218], b[219], b[220], b[221], b[222], b[223], b[224], b[225], b[226], b[227], b[228], b[229], b[230], b[231], b[232], b[233], b[234], b[235], b[236], b[237], b[238], b[239], b[240], b[241], b[242], b[243], b[244], b[245], b[246], b[247], b[248], b[249], b[250], b[251], b[252], b[253], b[254], b[255], b[256], b[257], b[258], b[259], b[260], b[261], b[262], b[263], b[264], b[265], b[266], b[267], b[268], b[269], b[270], b[271], b[272], b[273], b[274], b[275], b[276], b[277], b[278], b[279], b[280], b[281], b[282], b[283], b[284], b[285], b[286], b[287], b[288], b[289], b[290], b[291], b[292], b[293], b[294], b[295], b[296], b[297], b[298], b[299], b[300]\n",
      "Such low values indicate that the effective sample size estimators may be biased high and actual performance may be substantially lower than quoted.\n",
      "\n",
      "The following parameters had split R-hat greater than 1.1:\n",
      "  b[1], b[2], b[3], b[4], b[5], b[6], b[7], b[8], b[9], b[10], b[11], b[12], b[13], b[14], b[15], b[16], b[17], b[18], b[19], b[20], b[21], b[22], b[23], b[24], b[25], b[26], b[27], b[28], b[29], b[30], b[31], b[32], b[33], b[34], b[35], b[36], b[37], b[38], b[39], b[40], b[41], b[42], b[43], b[44], b[45], b[46], b[47], b[48], b[49], b[50], b[51], b[52], b[53], b[54], b[55], b[56], b[57], b[58], b[59], b[60], b[61], b[62], b[63], b[64], b[65], b[66], b[67], b[68], b[69], b[70], b[71], b[72], b[73], b[74], b[75], b[76], b[77], b[78], b[79], b[80], b[81], b[82], b[83], b[84], b[85], b[86], b[87], b[88], b[89], b[90], b[91], b[92], b[93], b[94], b[95], b[96], b[97], b[98], b[99], b[100], b[101], b[102], b[103], b[104], b[105], b[106], b[107], b[108], b[109], b[110], b[111], b[112], b[113], b[114], b[115], b[116], b[117], b[118], b[119], b[120], b[121], b[122], b[123], b[124], b[125], b[126], b[127], b[128], b[129], b[130], b[131], b[132], b[133], b[134], b[135], b[136], b[137], b[138], b[139], b[140], b[141], b[142], b[143], b[144], b[145], b[146], b[147], b[148], b[149], b[150], b[151], b[152], b[153], b[154], b[155], b[156], b[157], b[158], b[159], b[160], b[161], b[162], b[163], b[164], b[165], b[166], b[167], b[168], b[169], b[170], b[171], b[172], b[173], b[174], b[175], b[176], b[177], b[178], b[179], b[180], b[181], b[182], b[183], b[184], b[185], b[186], b[187], b[188], b[189], b[190], b[191], b[192], b[193], b[194], b[195], b[196], b[197], b[198], b[199], b[200], b[201], b[202], b[203], b[204], b[205], b[206], b[207], b[208], b[209], b[210], b[211], b[212], b[213], b[214], b[215], b[216], b[217], b[218], b[219], b[220], b[221], b[222], b[223], b[224], b[225], b[226], b[227], b[228], b[229], b[230], b[231], b[232], b[233], b[234], b[235], b[236], b[237], b[238], b[239], b[240], b[241], b[242], b[243], b[244], b[245], b[246], b[247], b[248], b[249], b[250], b[251], b[252], b[253], b[254], b[255], b[256], b[257], b[258], b[259], b[260], b[261], b[262], b[263], b[264], b[265], b[266], b[267], b[268], b[269], b[270], b[271], b[272], b[273], b[274], b[275], b[276], b[277], b[278], b[279], b[280], b[281], b[282], b[283], b[284], b[285], b[286], b[287], b[288], b[289], b[290], b[291], b[292], b[293], b[294], b[295], b[296], b[297], b[298], b[299], b[300]\n",
      "Such high values indicate incomplete mixing and biased estimation.\n",
      "You should consider regularizating your model with additional prior information or a more effective parameterization.\n",
      "\n",
      "Processing complete.\n"
     ]
    },
    {
     "data": {
      "text/plain": [
       "'Processing csv files: /tmp/tmp93ns3lsn/annelies-202112220022-1-untke5_s.csv, /tmp/tmp93ns3lsn/annelies-202112220022-2-7bwa07fz.csv, /tmp/tmp93ns3lsn/annelies-202112220022-3-t7zddld5.csv, /tmp/tmp93ns3lsn/annelies-202112220022-4-9r1hp3gf.csv\\n\\nChecking sampler transitions treedepth.\\n4000 of 4000 (1e+02%) transitions hit the maximum treedepth limit of 10, or 2^10 leapfrog steps.\\nTrajectories that are prematurely terminated due to this limit will result in slow exploration.\\nFor optimal performance, increase this limit.\\n\\nChecking sampler transitions for divergences.\\nNo divergent transitions found.\\n\\nChecking E-BFMI - sampler transitions HMC potential energy.\\nE-BFMI satisfactory.\\n\\nThe following parameters had fewer than 0.001 effective draws per transition:\\n  b[1], b[2], b[3], b[4], b[5], b[6], b[7], b[8], b[9], b[10], b[11], b[12], b[13], b[14], b[15], b[16], b[17], b[18], b[19], b[20], b[21], b[22], b[23], b[24], b[25], b[26], b[27], b[28], b[29], b[30], b[31], b[32], b[33], b[34], b[35], b[36], b[37], b[38], b[39], b[40], b[41], b[42], b[43], b[44], b[45], b[46], b[47], b[48], b[49], b[50], b[51], b[52], b[53], b[54], b[55], b[56], b[57], b[58], b[59], b[60], b[61], b[62], b[63], b[64], b[65], b[66], b[67], b[68], b[69], b[70], b[71], b[72], b[73], b[74], b[75], b[76], b[77], b[78], b[79], b[80], b[81], b[82], b[83], b[84], b[85], b[86], b[87], b[88], b[89], b[90], b[91], b[92], b[93], b[94], b[95], b[96], b[97], b[98], b[99], b[100], b[101], b[102], b[103], b[104], b[105], b[106], b[107], b[108], b[109], b[110], b[111], b[112], b[113], b[114], b[115], b[116], b[117], b[118], b[119], b[120], b[121], b[122], b[123], b[124], b[125], b[126], b[127], b[128], b[129], b[130], b[131], b[132], b[133], b[134], b[135], b[136], b[137], b[138], b[139], b[140], b[141], b[142], b[143], b[144], b[145], b[146], b[147], b[148], b[149], b[150], b[151], b[152], b[153], b[154], b[155], b[156], b[157], b[158], b[159], b[160], b[161], b[162], b[163], b[164], b[165], b[166], b[167], b[168], b[169], b[170], b[171], b[172], b[173], b[174], b[175], b[176], b[177], b[178], b[179], b[180], b[181], b[182], b[183], b[184], b[185], b[186], b[187], b[188], b[189], b[190], b[191], b[192], b[193], b[194], b[195], b[196], b[197], b[198], b[199], b[200], b[201], b[202], b[203], b[204], b[205], b[206], b[207], b[208], b[209], b[210], b[211], b[212], b[213], b[214], b[215], b[216], b[217], b[218], b[219], b[220], b[221], b[222], b[223], b[224], b[225], b[226], b[227], b[228], b[229], b[230], b[231], b[232], b[233], b[234], b[235], b[236], b[237], b[238], b[239], b[240], b[241], b[242], b[243], b[244], b[245], b[246], b[247], b[248], b[249], b[250], b[251], b[252], b[253], b[254], b[255], b[256], b[257], b[258], b[259], b[260], b[261], b[262], b[263], b[264], b[265], b[266], b[267], b[268], b[269], b[270], b[271], b[272], b[273], b[274], b[275], b[276], b[277], b[278], b[279], b[280], b[281], b[282], b[283], b[284], b[285], b[286], b[287], b[288], b[289], b[290], b[291], b[292], b[293], b[294], b[295], b[296], b[297], b[298], b[299], b[300]\\nSuch low values indicate that the effective sample size estimators may be biased high and actual performance may be substantially lower than quoted.\\n\\nThe following parameters had split R-hat greater than 1.1:\\n  b[1], b[2], b[3], b[4], b[5], b[6], b[7], b[8], b[9], b[10], b[11], b[12], b[13], b[14], b[15], b[16], b[17], b[18], b[19], b[20], b[21], b[22], b[23], b[24], b[25], b[26], b[27], b[28], b[29], b[30], b[31], b[32], b[33], b[34], b[35], b[36], b[37], b[38], b[39], b[40], b[41], b[42], b[43], b[44], b[45], b[46], b[47], b[48], b[49], b[50], b[51], b[52], b[53], b[54], b[55], b[56], b[57], b[58], b[59], b[60], b[61], b[62], b[63], b[64], b[65], b[66], b[67], b[68], b[69], b[70], b[71], b[72], b[73], b[74], b[75], b[76], b[77], b[78], b[79], b[80], b[81], b[82], b[83], b[84], b[85], b[86], b[87], b[88], b[89], b[90], b[91], b[92], b[93], b[94], b[95], b[96], b[97], b[98], b[99], b[100], b[101], b[102], b[103], b[104], b[105], b[106], b[107], b[108], b[109], b[110], b[111], b[112], b[113], b[114], b[115], b[116], b[117], b[118], b[119], b[120], b[121], b[122], b[123], b[124], b[125], b[126], b[127], b[128], b[129], b[130], b[131], b[132], b[133], b[134], b[135], b[136], b[137], b[138], b[139], b[140], b[141], b[142], b[143], b[144], b[145], b[146], b[147], b[148], b[149], b[150], b[151], b[152], b[153], b[154], b[155], b[156], b[157], b[158], b[159], b[160], b[161], b[162], b[163], b[164], b[165], b[166], b[167], b[168], b[169], b[170], b[171], b[172], b[173], b[174], b[175], b[176], b[177], b[178], b[179], b[180], b[181], b[182], b[183], b[184], b[185], b[186], b[187], b[188], b[189], b[190], b[191], b[192], b[193], b[194], b[195], b[196], b[197], b[198], b[199], b[200], b[201], b[202], b[203], b[204], b[205], b[206], b[207], b[208], b[209], b[210], b[211], b[212], b[213], b[214], b[215], b[216], b[217], b[218], b[219], b[220], b[221], b[222], b[223], b[224], b[225], b[226], b[227], b[228], b[229], b[230], b[231], b[232], b[233], b[234], b[235], b[236], b[237], b[238], b[239], b[240], b[241], b[242], b[243], b[244], b[245], b[246], b[247], b[248], b[249], b[250], b[251], b[252], b[253], b[254], b[255], b[256], b[257], b[258], b[259], b[260], b[261], b[262], b[263], b[264], b[265], b[266], b[267], b[268], b[269], b[270], b[271], b[272], b[273], b[274], b[275], b[276], b[277], b[278], b[279], b[280], b[281], b[282], b[283], b[284], b[285], b[286], b[287], b[288], b[289], b[290], b[291], b[292], b[293], b[294], b[295], b[296], b[297], b[298], b[299], b[300]\\nSuch high values indicate incomplete mixing and biased estimation.\\nYou should consider regularizating your model with additional prior information or a more effective parameterization.\\n\\nProcessing complete.'"
      ]
     },
     "execution_count": 383,
     "metadata": {},
     "output_type": "execute_result"
    }
   ],
   "source": [
    "posterior.diagnose()"
   ]
  },
  {
   "cell_type": "code",
   "execution_count": 384,
   "id": "726efd14-fe9f-476d-ae31-99285133e074",
   "metadata": {},
   "outputs": [
    {
     "data": {
      "text/plain": [
       "<AxesSubplot:ylabel='Density'>"
      ]
     },
     "execution_count": 384,
     "metadata": {},
     "output_type": "execute_result"
    },
    {
     "data": {
      "image/png": "[encoded data removed]",
      "text/plain": [
       "<Figure size 432x288 with 1 Axes>"
      ]
     },
     "metadata": {
      "needs_background": "light"
     },
     "output_type": "display_data"
    }
   ],
   "source": [
    "sns.kdeplot(posterior.stan_variable(\"mu\"))"
   ]
  },
  {
   "cell_type": "code",
   "execution_count": 385,
   "id": "7230be5b-ed01-40e0-9828-e9bba5473168",
   "metadata": {},
   "outputs": [
    {
     "data": {
      "text/plain": [
       "<AxesSubplot:ylabel='Density'>"
      ]
     },
     "execution_count": 385,
     "metadata": {},
     "output_type": "execute_result"
    },
    {
     "data": {
      "image/png": "[encoded data removed]",
      "text/plain": [
       "<Figure size 432x288 with 1 Axes>"
      ]
     },
     "metadata": {
      "needs_background": "light"
     },
     "output_type": "display_data"
    }
   ],
   "source": [
    "l_sigma_T=posterior.stan_variable(\"sigma_T\")\n",
    "sns.kdeplot(l_sigma_T)"
   ]
  },
  {
   "cell_type": "code",
   "execution_count": 386,
   "id": "c150b68e-8e91-45b7-ac97-c2c5c1be2677",
   "metadata": {},
   "outputs": [
    {
     "data": {
      "text/plain": [
       "3.0260499999999997"
      ]
     },
     "execution_count": 386,
     "metadata": {},
     "output_type": "execute_result"
    }
   ],
   "source": [
    "np.median(l_sigma_T)"
   ]
  },
  {
   "cell_type": "code",
   "execution_count": 387,
   "id": "cd22ca16-d06c-4624-abf0-cfc2e311d1fc",
   "metadata": {},
   "outputs": [
    {
     "data": {
      "text/plain": [
       "<AxesSubplot:ylabel='Density'>"
      ]
     },
     "execution_count": 387,
     "metadata": {},
     "output_type": "execute_result"
    },
    {
     "data": {
      "image/png": "[encoded data removed]",
      "text/plain": [
       "<Figure size 432x288 with 1 Axes>"
      ]
     },
     "metadata": {
      "needs_background": "light"
     },
     "output_type": "display_data"
    }
   ],
   "source": [
    "l_sigma_J=posterior.stan_variable(\"sigma_J\")\n",
    "sns.kdeplot(l_sigma_J)"
   ]
  },
  {
   "cell_type": "code",
   "execution_count": 388,
   "id": "0b15cee4-cb3b-49ad-a8a0-090e1ef61d18",
   "metadata": {},
   "outputs": [
    {
     "data": {
      "text/plain": [
       "1.97377"
      ]
     },
     "execution_count": 388,
     "metadata": {},
     "output_type": "execute_result"
    }
   ],
   "source": [
    "np.median(l_sigma_J)"
   ]
  },
  {
   "cell_type": "code",
   "execution_count": 389,
   "id": "8cdff191-ae81-4f64-8283-1f632e41d257",
   "metadata": {},
   "outputs": [],
   "source": [
    "l_sigma_I=posterior.stan_variable(\"sigma_I\")"
   ]
  },
  {
   "cell_type": "code",
   "execution_count": 390,
   "id": "abdfbef9-c81f-427f-b824-8badcd345d64",
   "metadata": {},
   "outputs": [
    {
     "data": {
      "text/plain": [
       "(4000, 3)"
      ]
     },
     "execution_count": 390,
     "metadata": {},
     "output_type": "execute_result"
    }
   ],
   "source": [
    "l_sigma_I.shape"
   ]
  },
  {
   "cell_type": "code",
   "execution_count": 391,
   "id": "8a63a45f-dee3-4a90-b8c9-d9371381560c",
   "metadata": {},
   "outputs": [
    {
     "data": {
      "image/png": "[encoded data removed]",
      "text/plain": [
       "<Figure size 432x288 with 1 Axes>"
      ]
     },
     "metadata": {
      "needs_background": "light"
     },
     "output_type": "display_data"
    }
   ],
   "source": [
    "for i in range(judges):\n",
    "    sns.kdeplot(l_sigma_I[:,i])"
   ]
  },
  {
   "cell_type": "code",
   "execution_count": 392,
   "id": "89a33ded-347a-4e1a-a054-dc20256a053a",
   "metadata": {},
   "outputs": [
    {
     "data": {
      "text/plain": [
       "<AxesSubplot:ylabel='Density'>"
      ]
     },
     "execution_count": 392,
     "metadata": {},
     "output_type": "execute_result"
    },
    {
     "data": {
      "image/png": "[encoded data removed]",
      "text/plain": [
       "<Figure size 432x288 with 1 Axes>"
      ]
     },
     "metadata": {
      "needs_background": "light"
     },
     "output_type": "display_data"
    }
   ],
   "source": [
    "l_sigma_E=np.mean(l_sigma_I,axis=1)\n",
    "sns.kdeplot(l_sigma_E)"
   ]
  },
  {
   "cell_type": "code",
   "execution_count": 393,
   "id": "ad827965-c289-4461-8a9c-abbb25ba420c",
   "metadata": {},
   "outputs": [],
   "source": [
    "rho=(l_sigma_T*l_sigma_T)/(l_sigma_T*l_sigma_T + l_sigma_J*l_sigma_J + l_sigma_E*l_sigma_E)"
   ]
  },
  {
   "cell_type": "code",
   "execution_count": 394,
   "id": "a3b7eb28-f5f4-4021-bf70-8456773cf617",
   "metadata": {},
   "outputs": [
    {
     "data": {
      "text/plain": [
       "<AxesSubplot:ylabel='Density'>"
      ]
     },
     "execution_count": 394,
     "metadata": {},
     "output_type": "execute_result"
    },
    {
     "data": {
      "image/png": "[encoded data removed]",
      "text/plain": [
       "<Figure size 432x288 with 1 Axes>"
      ]
     },
     "metadata": {
      "needs_background": "light"
     },
     "output_type": "display_data"
    }
   ],
   "source": [
    "sns.kdeplot(rho)"
   ]
  },
  {
   "cell_type": "code",
   "execution_count": 395,
   "id": "5e6a01df-ebd5-422a-9396-ce0bef60d707",
   "metadata": {},
   "outputs": [
    {
     "name": "stderr",
     "output_type": "stream",
     "text": [
      "INFO:cmdstanpy:start chain 1\n",
      "INFO:cmdstanpy:finish chain 1\n"
     ]
    }
   ],
   "source": [
    "opt = m.optimize(data=data,\n",
    "                   algorithm=\"lbfgs\",\n",
    "                   init_alpha=1e-16)"
   ]
  },
  {
   "cell_type": "code",
   "execution_count": 396,
   "id": "1d057703-409c-43e1-b574-36a381f92f80",
   "metadata": {},
   "outputs": [
    {
     "data": {
      "text/plain": [
       "{'mu': array(8.41158),\n",
       " 'sigma_T': array(3.00769),\n",
       " 'sigma_J': array(0.765708),\n",
       " 'sigma_I': array([0.151293, 0.290946, 0.382587]),\n",
       " 'a': array([-0.387865, -0.693025,  1.06572 ]),\n",
       " 'b': array([ 1.92959e-01,  1.74939e+00,  6.31645e-01, -4.37009e+00,\n",
       "        -5.26477e+00, -7.34050e+00, -1.71101e+00,  1.70866e-01,\n",
       "        -3.87284e+00, -3.16974e+00, -1.49863e-01, -1.40178e+00,\n",
       "        -1.80193e-01, -1.94353e+00, -3.20423e+00,  8.65129e-01,\n",
       "        -2.30691e-01, -1.32025e+00,  3.17501e+00,  2.84001e+00,\n",
       "         1.97561e+00, -2.74392e+00, -2.27566e+00, -1.89569e+00,\n",
       "         5.21063e-01, -3.50492e+00,  2.70107e-01,  2.50506e+00,\n",
       "         4.75125e+00, -2.80954e-01,  2.22982e+00,  4.50136e+00,\n",
       "        -4.23201e+00, -1.62534e+00,  3.14715e+00, -1.52719e+00,\n",
       "        -2.37956e+00,  5.43442e+00,  1.27055e+00,  6.84383e+00,\n",
       "         2.20678e-01,  1.02269e+00, -4.45475e-01,  3.86225e+00,\n",
       "         3.76271e+00,  2.55886e+00,  2.21093e+00,  2.96084e+00,\n",
       "         4.69658e+00, -1.63048e+00,  3.77523e+00, -4.98725e+00,\n",
       "         2.43443e-01, -9.56968e-01, -4.29730e-01, -1.98504e-02,\n",
       "        -4.28328e-01, -1.07166e+00, -4.62838e+00,  2.01174e+00,\n",
       "         3.21507e-01, -9.63665e-01,  2.33657e+00, -7.38389e-01,\n",
       "        -3.01516e-02, -8.42622e+00, -3.91015e-01,  2.32404e+00,\n",
       "         2.53536e+00, -1.24762e+00, -3.21551e+00, -2.02643e+00,\n",
       "         1.33793e+00,  3.85502e+00,  1.89176e+00,  5.00055e+00,\n",
       "        -3.24205e+00, -3.63565e-01,  2.78380e+00,  8.12343e-01,\n",
       "         1.21254e+00,  2.40133e+00,  2.38428e+00, -9.86463e-01,\n",
       "         1.28597e+00, -4.16526e+00, -1.31236e-01,  4.65099e+00,\n",
       "         2.40255e+00,  2.17006e+00, -1.09155e+00,  3.11468e+00,\n",
       "        -9.00572e-01,  5.44020e+00,  1.32321e+00,  4.76795e+00,\n",
       "        -4.65333e+00, -4.19957e-01, -1.61548e+00, -1.75992e+00,\n",
       "         3.65747e+00,  1.48609e+00, -4.09115e+00,  4.10085e+00,\n",
       "        -2.00934e+00, -9.23474e-01,  4.29565e-01, -2.38311e+00,\n",
       "        -2.42529e+00, -3.26172e+00, -4.55212e+00,  1.63988e+00,\n",
       "         7.39306e-01,  4.27755e-01, -4.01026e+00, -4.59870e+00,\n",
       "         2.69554e+00,  2.52964e+00, -1.99505e+00, -4.63821e+00,\n",
       "         5.41967e-02, -2.65949e+00,  1.99000e+00, -4.66198e-01,\n",
       "        -8.30152e-01, -1.46619e+00, -2.48675e+00, -5.82236e-01,\n",
       "        -2.90909e+00, -9.57073e-01,  2.21838e+00,  5.69483e-01,\n",
       "        -2.70230e+00, -2.02163e+00,  2.15024e+00,  4.48105e+00,\n",
       "        -3.19718e+00,  2.79251e+00, -2.89906e+00, -6.40913e+00,\n",
       "         2.53572e+00, -8.27881e-03,  1.65807e+00,  1.11626e+00,\n",
       "        -3.62106e+00,  1.37234e+00,  1.21793e+00, -4.48403e+00,\n",
       "         1.73896e-01, -1.13822e+00,  5.08443e+00,  8.41498e-01,\n",
       "        -3.65714e+00,  4.92519e+00,  2.63760e+00,  3.04548e+00,\n",
       "         1.05205e+00, -3.42043e+00, -1.57731e+00,  5.79567e+00,\n",
       "        -2.57874e+00,  9.50130e-01, -8.56296e-01, -8.33417e-01,\n",
       "         2.66950e+00, -4.26902e+00, -3.27523e+00,  3.24810e+00,\n",
       "         6.23951e+00,  3.14184e+00, -6.09995e+00,  2.84655e+00,\n",
       "        -1.63725e+00, -7.70501e+00,  4.31961e+00, -1.12055e+00,\n",
       "         6.42779e+00, -1.15162e+00,  5.09219e+00, -2.03637e+00,\n",
       "         4.60379e+00, -3.80356e+00,  2.38889e+00,  7.20441e-01,\n",
       "        -5.14254e-01, -1.41620e+00,  1.52669e+00, -4.23792e-01,\n",
       "        -3.34295e+00, -2.77512e+00, -4.51339e+00, -3.54364e+00,\n",
       "        -2.10091e+00, -8.03016e-01,  1.45126e+00,  8.93692e-01,\n",
       "         5.16900e+00,  2.08718e-01, -2.01292e+00,  1.18130e+00,\n",
       "        -1.55779e+00, -1.50361e-01,  6.98219e+00,  2.16164e+00,\n",
       "         1.31175e+00,  1.49792e+00,  1.86232e+00,  2.65809e+00,\n",
       "         2.94515e+00, -1.99474e+00,  1.44107e+00,  4.12408e-01,\n",
       "         2.73038e+00,  3.48280e+00, -5.90273e+00,  3.45378e+00,\n",
       "        -2.44433e+00, -2.57114e+00, -7.60532e+00, -2.35096e+00,\n",
       "         8.72406e-01, -4.88976e+00, -2.19984e+00, -1.20752e+00,\n",
       "        -1.03273e+00,  2.18109e+00, -5.23016e+00, -1.68361e+00,\n",
       "         4.17799e+00, -1.13446e+00, -3.45018e+00,  9.52715e-01,\n",
       "         3.72138e+00, -1.70126e+00, -8.07688e-01,  1.02371e+00,\n",
       "        -2.79881e+00, -1.21045e+00, -3.52592e+00,  1.43942e+00,\n",
       "         6.71068e+00, -2.41559e+00,  3.64524e+00, -1.58849e+00,\n",
       "        -3.47348e+00, -5.15096e+00,  4.88063e-01,  2.23765e+00,\n",
       "        -1.10284e+00, -3.17275e+00,  5.22552e+00,  1.06380e+00,\n",
       "         4.15794e+00,  4.91171e+00, -4.52692e-01, -2.98738e-01,\n",
       "        -1.30435e+00, -4.93916e+00,  3.22489e+00, -1.34639e+00,\n",
       "        -1.82451e+00,  5.41294e+00,  2.87198e+00, -2.98210e-01,\n",
       "         2.70490e+00, -3.45640e+00, -1.31798e+00, -3.10200e+00,\n",
       "        -1.41255e+00, -5.79047e+00,  2.36426e+00, -1.26345e+00,\n",
       "        -2.93715e+00,  2.00914e+00, -2.29352e+00,  5.29861e+00,\n",
       "        -2.03823e-01,  2.49651e+00,  1.07895e+00,  8.83585e-01,\n",
       "         4.05119e+00,  3.81828e+00,  3.37855e+00, -2.68592e-01,\n",
       "        -3.26126e+00, -2.59404e+00, -4.32813e+00, -3.00312e+00,\n",
       "        -1.49901e+00,  3.98417e-01,  4.84531e+00,  1.41461e+00,\n",
       "        -3.40583e+00, -6.90636e-01,  2.86776e+00,  3.82862e+00,\n",
       "        -3.04492e+00,  1.66223e-01,  2.65885e+00, -2.76772e-01])}"
      ]
     },
     "execution_count": 396,
     "metadata": {},
     "output_type": "execute_result"
    }
   ],
   "source": [
    "opt.stan_variables()"
   ]
  },
  {
   "cell_type": "code",
   "execution_count": 397,
   "id": "5b4bc361-dfd9-4072-bedd-0fac8e1a6f1c",
   "metadata": {},
   "outputs": [],
   "source": [
    "def icc(sigma_T,sigma_J,sigma_I,**kwargs):\n",
    "    sigma_E=np.mean(sigma_I)\n",
    "    rho = (sigma_T*sigma_T)/(sigma_T*sigma_T + sigma_J*sigma_J + sigma_E*sigma_E)\n",
    "    return rho"
   ]
  },
  {
   "cell_type": "code",
   "execution_count": 398,
   "id": "7158088b-8793-435a-af9e-5dcfabd4733f",
   "metadata": {},
   "outputs": [
    {
     "data": {
      "text/plain": [
       "0.9318196374407341"
      ]
     },
     "execution_count": 398,
     "metadata": {},
     "output_type": "execute_result"
    }
   ],
   "source": [
    "icc(**opt.stan_variables())"
   ]
  },
  {
   "cell_type": "code",
   "execution_count": 399,
   "id": "05a52b9b-5ca1-469c-9f1f-9c9209232a97",
   "metadata": {},
   "outputs": [
    {
     "data": {
      "text/plain": [
       "27.16636060765011"
      ]
     },
     "execution_count": 399,
     "metadata": {},
     "output_type": "execute_result"
    }
   ],
   "source": [
    "real = mu+b\n",
    "inferred = opt.stan_variable(\"mu\")+opt.stan_variable(\"b\")\n",
    "np.linalg.norm(real-inferred)"
   ]
  },
  {
   "cell_type": "code",
   "execution_count": 400,
   "id": "be92e5b1-4c3c-42a2-8dd8-f62f1501dbbf",
   "metadata": {},
   "outputs": [
    {
     "name": "stdout",
     "output_type": "stream",
     "text": [
      "2.4600371622162793\n",
      "1.5684505609729238\n"
     ]
    }
   ],
   "source": [
    "from sklearn.metrics import mean_squared_error\n",
    "mse = mean_squared_error(real, inferred)\n",
    "print(mse)\n",
    "rmse = np.sqrt(mse)\n",
    "print(rmse)"
   ]
  },
  {
   "cell_type": "code",
   "execution_count": 401,
   "id": "05980198-01f1-4361-aa8e-e90e050b21b4",
   "metadata": {},
   "outputs": [],
   "source": [
    "mean_pred = np.mean(np.mean(x,axis=2),axis=1)"
   ]
  },
  {
   "cell_type": "code",
   "execution_count": 402,
   "id": "507c53aa-5111-437e-930c-41e973a950af",
   "metadata": {},
   "outputs": [
    {
     "name": "stdout",
     "output_type": "stream",
     "text": [
      "2.4796254592741684\n",
      "1.5746826535128176\n"
     ]
    }
   ],
   "source": [
    "mse = mean_squared_error(real, mean_pred)\n",
    "print(mse)\n",
    "rmse = np.sqrt(mse)\n",
    "print(rmse)"
   ]
  },
  {
   "cell_type": "code",
   "execution_count": null,
   "id": "2d248b85-5169-4195-b41e-d76defa2d898",
   "metadata": {},
   "outputs": [],
   "source": []
  },
  {
   "cell_type": "code",
   "execution_count": null,
   "id": "717eb0db-c6a2-4284-83f6-b49947cb18cc",
   "metadata": {},
   "outputs": [],
   "source": []
  },
  {
   "cell_type": "code",
   "execution_count": null,
   "id": "52a23623-89c8-4abe-aa9c-917667c1ccdc",
   "metadata": {},
   "outputs": [],
   "source": []
  }
 ],
 "metadata": {
  "kernelspec": {
   "display_name": "Python 3 (ipykernel)",
   "language": "python",
   "name": "python3"
  },
  "language_info": {
   "codemirror_mode": {
    "name": "ipython",
    "version": 3
   },
   "file_extension": ".py",
   "mimetype": "text/x-python",
   "name": "python",
   "nbconvert_exporter": "python",
   "pygments_lexer": "ipython3",
   "version": "3.9.5"
  }
 },
 "nbformat": 4,
 "nbformat_minor": 5
}
